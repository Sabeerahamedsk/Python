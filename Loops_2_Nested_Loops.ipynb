{
  "nbformat": 4,
  "nbformat_minor": 0,
  "metadata": {
    "colab": {
      "provenance": []
    },
    "kernelspec": {
      "name": "python3",
      "display_name": "Python 3"
    },
    "language_info": {
      "name": "python"
    }
  },
  "cells": [
    {
      "cell_type": "markdown",
      "source": [
        "## Agenda\n",
        "- Jump Statements\n",
        "\n",
        "   i. break\n",
        "   \n",
        "   ii. continue\n",
        "\n",
        "   iii. pass\n",
        "\n",
        "- Nested Loops\n",
        "- Problems -> GCD, LCM"
      ],
      "metadata": {
        "id": "bw6o2IQSc8it"
      }
    },
    {
      "cell_type": "code",
      "execution_count": null,
      "metadata": {
        "colab": {
          "base_uri": "https://localhost:8080/"
        },
        "id": "0MqfjPwrc5hD",
        "outputId": "440fa897-cde5-4a9c-c91a-6d01311c1249"
      },
      "outputs": [
        {
          "output_type": "stream",
          "name": "stdout",
          "text": [
            "1,3,5,7,9"
          ]
        }
      ],
      "source": [
        "for i in range(1, 10, 2):\n",
        "  if i == 9:\n",
        "    print(i, end='')\n",
        "  else:\n",
        "    print(i, end=',')"
      ]
    },
    {
      "cell_type": "markdown",
      "source": [
        "## Problem\n",
        "Write a program that continually asks the user to enter a number until they enter a number 5. At this point the program should print how many numbers the user has entered.\n",
        "\n",
        "You can assume user will enter only numbers"
      ],
      "metadata": {
        "id": "B-lEK40iorRt"
      }
    },
    {
      "cell_type": "code",
      "source": [
        "count = 0\n",
        "\n",
        "while True:\n",
        "  n = int(input('enter a number'))\n",
        "  count += 1\n",
        "  if n == 5:\n",
        "    break\n",
        "print(count)"
      ],
      "metadata": {
        "colab": {
          "base_uri": "https://localhost:8080/"
        },
        "id": "AYUYYWYtotul",
        "outputId": "8a58217e-133f-4a69-a56e-83b5247867a9"
      },
      "execution_count": null,
      "outputs": [
        {
          "name": "stdout",
          "output_type": "stream",
          "text": [
            "enter a number5\n"
          ]
        }
      ]
    },
    {
      "cell_type": "code",
      "source": [
        "#Quiz\n",
        "\n",
        "for i in range(1, 10):\n",
        "    if i == 5:\n",
        "        break\n",
        "    print(i, end=' ')"
      ],
      "metadata": {
        "colab": {
          "base_uri": "https://localhost:8080/"
        },
        "id": "sMw1qVKMs6Jk",
        "outputId": "6dbb58e8-60da-46f6-a3e9-f29e2ca17a51"
      },
      "execution_count": null,
      "outputs": [
        {
          "output_type": "stream",
          "name": "stdout",
          "text": [
            "1 2 3 4 "
          ]
        }
      ]
    },
    {
      "cell_type": "code",
      "source": [
        "n = 5\n",
        "if n == 5:\n",
        "  break"
      ],
      "metadata": {
        "colab": {
          "base_uri": "https://localhost:8080/",
          "height": 142
        },
        "id": "V9iYJDMmtuLe",
        "outputId": "55abc841-5c4c-48c2-c6ef-13c2942d22c8"
      },
      "execution_count": null,
      "outputs": [
        {
          "output_type": "error",
          "ename": "SyntaxError",
          "evalue": "'break' outside loop (<ipython-input-5-bdf3c5c288f7>, line 3)",
          "traceback": [
            "\u001b[0;36m  File \u001b[0;32m\"<ipython-input-5-bdf3c5c288f7>\"\u001b[0;36m, line \u001b[0;32m3\u001b[0m\n\u001b[0;31m    break\u001b[0m\n\u001b[0m    ^\u001b[0m\n\u001b[0;31mSyntaxError\u001b[0m\u001b[0;31m:\u001b[0m 'break' outside loop\n"
          ]
        }
      ]
    },
    {
      "cell_type": "code",
      "source": [
        "for i in range(1, 10, 5):\n",
        "  break\n",
        "  print('Satish')"
      ],
      "metadata": {
        "id": "MbnuHSCmuMkw"
      },
      "execution_count": null,
      "outputs": []
    },
    {
      "cell_type": "code",
      "source": [
        "for i in range(1, 10, 5):\n",
        "  print('Satish')\n",
        "  break"
      ],
      "metadata": {
        "colab": {
          "base_uri": "https://localhost:8080/"
        },
        "id": "9iJZOezbuvKc",
        "outputId": "4520f135-91e6-469d-82f9-e5a305a5c23b"
      },
      "execution_count": null,
      "outputs": [
        {
          "output_type": "stream",
          "name": "stdout",
          "text": [
            "Satish\n"
          ]
        }
      ]
    },
    {
      "cell_type": "code",
      "source": [
        "for i in range(1, 10):\n",
        "  if i == 5:\n",
        "    continue\n",
        "  print(i, end=' ')"
      ],
      "metadata": {
        "colab": {
          "base_uri": "https://localhost:8080/"
        },
        "id": "6PGFUCntwYFP",
        "outputId": "9c3e88de-89f1-4672-dd63-0b26d56a69cb"
      },
      "execution_count": null,
      "outputs": [
        {
          "output_type": "stream",
          "name": "stdout",
          "text": [
            "1 2 3 4 6 7 8 9 "
          ]
        }
      ]
    },
    {
      "cell_type": "code",
      "source": [
        "i = 1\n",
        "while i <=9:\n",
        "  if i == 5:\n",
        "    continue\n",
        "  print(i, end=' ')\n",
        "  i +=1"
      ],
      "metadata": {
        "id": "z1ScgRldxiar"
      },
      "execution_count": null,
      "outputs": []
    },
    {
      "cell_type": "code",
      "source": [
        "# Quiz\n",
        "\n",
        "x = 0\n",
        "while x < 5:\n",
        "    x += 1\n",
        "    if x == 3:\n",
        "        continue\n",
        "    print(x)"
      ],
      "metadata": {
        "id": "8BFO1K4byqOe"
      },
      "execution_count": null,
      "outputs": []
    },
    {
      "cell_type": "code",
      "source": [
        "n = int(input())\n",
        "for i in range(1, n+1):\n",
        "  print('*', end='')"
      ],
      "metadata": {
        "colab": {
          "base_uri": "https://localhost:8080/"
        },
        "id": "hkxhNwrx1xsi",
        "outputId": "1672fff1-9edb-461b-82f5-79ba5350d985"
      },
      "execution_count": null,
      "outputs": [
        {
          "output_type": "stream",
          "name": "stdout",
          "text": [
            "5\n",
            "*****"
          ]
        }
      ]
    },
    {
      "cell_type": "code",
      "source": [
        "\n",
        "for i in range(3):\n",
        "  print('*', end='')\n",
        "print()\n",
        "for i in range(3):\n",
        "  print('*', end='')\n",
        "print()\n",
        "for i in range(3):\n",
        "  print('*', end='')"
      ],
      "metadata": {
        "colab": {
          "base_uri": "https://localhost:8080/"
        },
        "id": "3SMNp3y63UQO",
        "outputId": "c2b35f56-6544-4702-bd6f-f0b01e26512c"
      },
      "execution_count": null,
      "outputs": [
        {
          "output_type": "stream",
          "name": "stdout",
          "text": [
            "***\n",
            "***\n",
            "***"
          ]
        }
      ]
    },
    {
      "cell_type": "code",
      "source": [
        "for i in range(3):\n",
        "  for j in range(3):\n",
        "    print('*', end='')\n",
        "  print()"
      ],
      "metadata": {
        "colab": {
          "base_uri": "https://localhost:8080/"
        },
        "id": "YUaoWn424fVw",
        "outputId": "55a13e09-5fbc-49b5-e29c-8f07737c3a07"
      },
      "execution_count": null,
      "outputs": [
        {
          "output_type": "stream",
          "name": "stdout",
          "text": [
            "***\n",
            "***\n",
            "***\n"
          ]
        }
      ]
    },
    {
      "cell_type": "code",
      "source": [
        "n = int(input())\n",
        "for i in range(n):\n",
        "  for j in range(n):\n",
        "    print('*', end='')\n",
        "  print()"
      ],
      "metadata": {
        "colab": {
          "base_uri": "https://localhost:8080/"
        },
        "id": "kODCPkgD58Q5",
        "outputId": "048a6b96-9b1c-4158-92bf-ecab0d673505"
      },
      "execution_count": null,
      "outputs": [
        {
          "output_type": "stream",
          "name": "stdout",
          "text": [
            "5\n",
            "*****\n",
            "*****\n",
            "*****\n",
            "*****\n",
            "*****\n"
          ]
        }
      ]
    },
    {
      "cell_type": "code",
      "source": [
        "for i in range(3):\n",
        "    for j in range(i, 3):\n",
        "        print(\"*\", end=\" \")\n",
        "    print()"
      ],
      "metadata": {
        "colab": {
          "base_uri": "https://localhost:8080/"
        },
        "id": "KarOG-ZN6XTT",
        "outputId": "a95c0ef6-dd7a-4fb5-df53-5332b853efad"
      },
      "execution_count": null,
      "outputs": [
        {
          "output_type": "stream",
          "name": "stdout",
          "text": [
            "* * * \n",
            "* * \n",
            "* \n"
          ]
        }
      ]
    },
    {
      "cell_type": "code",
      "source": [
        "# GCD\n",
        "A = int(input())\n",
        "B = int(input())\n",
        "x = min(A, B)\n",
        "\n",
        "for i in range(x, 0, -1):\n",
        "  if A % i == 0  and B % i == 0:\n",
        "    print(i)\n",
        "    break"
      ],
      "metadata": {
        "colab": {
          "base_uri": "https://localhost:8080/"
        },
        "id": "D6HGZXmcAlfP",
        "outputId": "076beda3-f54c-444e-df96-f504b6ce1a7e"
      },
      "execution_count": null,
      "outputs": [
        {
          "output_type": "stream",
          "name": "stdout",
          "text": [
            "7\n",
            "8\n",
            "1\n"
          ]
        }
      ]
    },
    {
      "cell_type": "code",
      "source": [
        "# LCM\n",
        "\n",
        "A = int(input())\n",
        "B = int(input())\n",
        "x = max(A, B)\n",
        "\n",
        "while True:\n",
        "\n",
        "  if x%A == 0 and x%B == 0:\n",
        "    print(x)\n",
        "    break\n",
        "  x += 1"
      ],
      "metadata": {
        "colab": {
          "base_uri": "https://localhost:8080/"
        },
        "id": "1zmYIlVUC3oF",
        "outputId": "1dd2f8c1-5618-454c-c2f7-7886921d9288"
      },
      "execution_count": null,
      "outputs": [
        {
          "output_type": "stream",
          "name": "stdout",
          "text": [
            "6\n",
            "8\n",
            "24\n"
          ]
        }
      ]
    },
    {
      "cell_type": "code",
      "source": [],
      "metadata": {
        "id": "FIcW9JgUEYQw"
      },
      "execution_count": null,
      "outputs": []
    },
    {
      "cell_type": "markdown",
      "source": [
        "Write a program to input T numbers(N) from user and print count of digits of the given numbers.\n",
        "\n",
        "\n",
        "Problem Constraints\n",
        "\n",
        "1 <= T <= 100\n",
        "\n",
        "0 <= N <= 100000000\n",
        "\n",
        "Input Format\n",
        "\n",
        "First line is T which means number of test cases.\n",
        "\n",
        "Each next N lines contain an integer N.\n",
        "\n",
        "Output Format\n",
        "\n",
        "T lines each containing count of digits of the input integer.\n",
        "\n",
        "Example Input\n",
        "\n",
        "Input 1:\n",
        "\n",
        "2\n",
        "\n",
        "0\n",
        "\n",
        "1\n",
        "\n",
        "Input 2:\n",
        "\n",
        "2\n",
        "\n",
        "100\n",
        "\n",
        "10101\n",
        "\n",
        "\n",
        "Example Output\n",
        "\n",
        "Output 1:\n",
        "\n",
        "1\n",
        "\n",
        "1\n",
        "\n",
        "Output 2:\n",
        "\n",
        "3\n",
        "\n",
        "5\n"
      ],
      "metadata": {
        "id": "6ysUUJy-EYtv"
      }
    },
    {
      "cell_type": "code",
      "source": [
        "n = int(input())\n",
        "total = 0\n",
        "while n > 0:\n",
        "  rem = n % 10\n",
        "  total += rem\n",
        "  n = n//10\n",
        "print(total)"
      ],
      "metadata": {
        "colab": {
          "base_uri": "https://localhost:8080/"
        },
        "id": "a6MvDZkQEZTW",
        "outputId": "2287d116-097f-4df8-d9cc-7a0bc260b4a9"
      },
      "execution_count": null,
      "outputs": [
        {
          "output_type": "stream",
          "name": "stdout",
          "text": [
            "2024\n",
            "8\n"
          ]
        }
      ]
    }
  ]
}