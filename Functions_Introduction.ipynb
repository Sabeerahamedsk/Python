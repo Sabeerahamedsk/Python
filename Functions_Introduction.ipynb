{
  "nbformat": 4,
  "nbformat_minor": 0,
  "metadata": {
    "colab": {
      "provenance": []
    },
    "kernelspec": {
      "name": "python3",
      "display_name": "Python 3"
    },
    "language_info": {
      "name": "python"
    }
  },
  "cells": [
    {
      "cell_type": "markdown",
      "source": [
        "# Agenda\n",
        "\n",
        "- What is a function?\n",
        "- Syntax\n",
        "- Functional Arguments\n",
        "  \n",
        "  - Positional arguments\n",
        "  - Keyword arguments\n",
        "  - default arguments\n",
        "\n",
        "- scope of variable\n",
        "\n",
        "   - Local variable\n",
        "   - Global variable"
      ],
      "metadata": {
        "id": "hJorXP2U45fP"
      }
    },
    {
      "cell_type": "code",
      "execution_count": null,
      "metadata": {
        "colab": {
          "base_uri": "https://localhost:8080/"
        },
        "id": "hqK0nHrp42Om",
        "outputId": "fe941dc2-376e-43b4-9219-56d122f94271"
      },
      "outputs": [
        {
          "output_type": "execute_result",
          "data": {
            "text/plain": [
              "4.545454545454546"
            ]
          },
          "metadata": {},
          "execution_count": 2
        }
      ],
      "source": [
        "total_ratings = 10\n",
        "current_rating = 4.5\n",
        "current_stud_rating = 5\n",
        "sum_of_ratings = current_rating*total_ratings\n",
        "current_rating = (sum_of_ratings + current_stud_rating)/(total_ratings + 1)\n",
        "current_rating"
      ]
    },
    {
      "cell_type": "code",
      "source": [
        "total_ratings += 1\n",
        "current_stud_rating = 4\n",
        "sum_of_ratings = current_rating*total_ratings\n",
        "current_rating = (sum_of_ratings + current_stud_rating)/(total_ratings + 1)\n",
        "current_rating"
      ],
      "metadata": {
        "colab": {
          "base_uri": "https://localhost:8080/"
        },
        "id": "6M5vRgdqJDvP",
        "outputId": "29c1244e-32f4-4da2-8082-dd86a3ceb445"
      },
      "execution_count": null,
      "outputs": [
        {
          "output_type": "execute_result",
          "data": {
            "text/plain": [
              "4.500000000000001"
            ]
          },
          "metadata": {},
          "execution_count": 3
        }
      ]
    },
    {
      "cell_type": "code",
      "source": [
        "# Add two number\n",
        "\n",
        "def add(a, b):\n",
        "  return a+b\n",
        "\n",
        "add(10, 20)"
      ],
      "metadata": {
        "colab": {
          "base_uri": "https://localhost:8080/"
        },
        "id": "1mEUz3PFLJlu",
        "outputId": "3b062e47-4714-4205-ee99-b4559318eb76"
      },
      "execution_count": null,
      "outputs": [
        {
          "output_type": "execute_result",
          "data": {
            "text/plain": [
              "30"
            ]
          },
          "metadata": {},
          "execution_count": 4
        }
      ]
    },
    {
      "cell_type": "code",
      "source": [
        "add(100, 2000)"
      ],
      "metadata": {
        "colab": {
          "base_uri": "https://localhost:8080/"
        },
        "id": "dZMjiTD1Ltnd",
        "outputId": "a60baff6-8478-49d3-9cd5-9943873afb45"
      },
      "execution_count": null,
      "outputs": [
        {
          "output_type": "execute_result",
          "data": {
            "text/plain": [
              "2100"
            ]
          },
          "metadata": {},
          "execution_count": 5
        }
      ]
    },
    {
      "cell_type": "code",
      "source": [
        "add('satish', 'atcha')"
      ],
      "metadata": {
        "colab": {
          "base_uri": "https://localhost:8080/",
          "height": 35
        },
        "id": "eGoahUfeL0dl",
        "outputId": "8de8e686-5ea7-40a1-939b-7b9d20ef259a"
      },
      "execution_count": null,
      "outputs": [
        {
          "output_type": "execute_result",
          "data": {
            "text/plain": [
              "'satishatcha'"
            ],
            "application/vnd.google.colaboratory.intrinsic+json": {
              "type": "string"
            }
          },
          "metadata": {},
          "execution_count": 6
        }
      ]
    },
    {
      "cell_type": "code",
      "source": [
        "add(2, 3.5)"
      ],
      "metadata": {
        "colab": {
          "base_uri": "https://localhost:8080/"
        },
        "id": "me3o_QtLMKTa",
        "outputId": "b28a9b8b-4e33-4e6e-91b2-a0e6de4e0153"
      },
      "execution_count": null,
      "outputs": [
        {
          "output_type": "execute_result",
          "data": {
            "text/plain": [
              "5.5"
            ]
          },
          "metadata": {},
          "execution_count": 7
        }
      ]
    },
    {
      "cell_type": "code",
      "source": [
        "def add_2_nums_with_return(n1, n2):\n",
        "    return n1 + n2\n",
        "\n",
        "y = add_2_nums_with_return(5, 6)\n",
        "# print(y)"
      ],
      "metadata": {
        "id": "-lbK0EkgMrrD"
      },
      "execution_count": null,
      "outputs": []
    },
    {
      "cell_type": "code",
      "source": [
        "def add(a, b):\n",
        "  \"\"\"\n",
        "  Addition of two objects\n",
        "  \"\"\"\n",
        "  return a + b\n",
        "\n",
        "add(10, 20)"
      ],
      "metadata": {
        "id": "CAkvoTF7NP4j"
      },
      "execution_count": null,
      "outputs": []
    },
    {
      "cell_type": "code",
      "source": [
        "def add(x, y):\n",
        "    return x + y\n",
        "res = add(3, 5)\n",
        "print(res)"
      ],
      "metadata": {
        "colab": {
          "base_uri": "https://localhost:8080/"
        },
        "id": "KIeT-b31OvxZ",
        "outputId": "908f513d-b46f-4e35-f7d5-963d7b26c684"
      },
      "execution_count": null,
      "outputs": [
        {
          "output_type": "stream",
          "name": "stdout",
          "text": [
            "8\n"
          ]
        }
      ]
    },
    {
      "cell_type": "code",
      "source": [
        "total_ratings"
      ],
      "metadata": {
        "colab": {
          "base_uri": "https://localhost:8080/"
        },
        "id": "VyZYZcJePjPH",
        "outputId": "52d5e804-ec3b-475a-cccf-db03c9aa3b10"
      },
      "execution_count": null,
      "outputs": [
        {
          "output_type": "execute_result",
          "data": {
            "text/plain": [
              "11"
            ]
          },
          "metadata": {},
          "execution_count": 12
        }
      ]
    },
    {
      "cell_type": "code",
      "source": [
        "x = 100\n",
        "y = 200\n",
        "\n",
        "def fun(a, b):\n",
        "  return a+b\n",
        "\n",
        "z = fun(10, 20)\n",
        "print(x, y)\n",
        "print(z)"
      ],
      "metadata": {
        "colab": {
          "base_uri": "https://localhost:8080/"
        },
        "id": "w0FrcR1QPm6r",
        "outputId": "bb488f33-4ba5-4d01-8554-1caf868c4de7"
      },
      "execution_count": null,
      "outputs": [
        {
          "output_type": "stream",
          "name": "stdout",
          "text": [
            "100 200\n",
            "30\n"
          ]
        }
      ]
    },
    {
      "cell_type": "code",
      "source": [
        "def foo():\n",
        "  print('Foo')\n",
        "  print('xyz')\n",
        "  return 1\n",
        "  print('abc')\n",
        "\n",
        "y = foo()\n",
        "print(y)"
      ],
      "metadata": {
        "id": "HvzQUNZ9Qoe4"
      },
      "execution_count": null,
      "outputs": []
    },
    {
      "cell_type": "code",
      "source": [
        "# Write a function to greet the user\n",
        "\n",
        "def greet():\n",
        "  print('Hi Satish how are you doing')\n",
        "  print(\"Isn't it a nice weather today\")\n",
        "greet()"
      ],
      "metadata": {
        "colab": {
          "base_uri": "https://localhost:8080/"
        },
        "id": "eQsx_f91S7X3",
        "outputId": "c979ee0f-afd4-4090-cdf3-2503d7e904ba"
      },
      "execution_count": null,
      "outputs": [
        {
          "output_type": "stream",
          "name": "stdout",
          "text": [
            "Hi Satish how are you doing\n",
            "Isn't it a nice weather today\n"
          ]
        }
      ]
    },
    {
      "cell_type": "code",
      "source": [
        "firstname = input()\n",
        "lastname = input()\n",
        "\n",
        "def greet(firstname, lastname):\n",
        "  # print(\"Hi {1} {0} how are you doing\".format(firstname, lastname))\n",
        "  print(\"Hi {} {} How are you doing\".format(firstname, lastname))\n",
        "\n",
        "greet(firstname, lastname)"
      ],
      "metadata": {
        "colab": {
          "base_uri": "https://localhost:8080/"
        },
        "id": "LfuM2xmyTwBw",
        "outputId": "f53b1f7e-37ba-42cb-ae47-a2f8aace6c04"
      },
      "execution_count": null,
      "outputs": [
        {
          "output_type": "stream",
          "name": "stdout",
          "text": [
            "atcha\n",
            "satish\n",
            "Hi atcha satish How are you doing\n"
          ]
        }
      ]
    },
    {
      "cell_type": "code",
      "source": [
        "def greet(firstname, lastname):\n",
        "  # print(\"Hi {1} {0} how are you doing\".format(firstname, lastname))\n",
        "  print(\"Hi {} {} How are you doing\".format(firstname, lastname))\n",
        "\n",
        "greet('satish', 'atcha')"
      ],
      "metadata": {
        "colab": {
          "base_uri": "https://localhost:8080/"
        },
        "id": "mvZuMW2GVypV",
        "outputId": "9aed3e96-d07d-459f-e07f-f53a5a99dc14"
      },
      "execution_count": null,
      "outputs": [
        {
          "output_type": "stream",
          "name": "stdout",
          "text": [
            "Hi satish atcha How are you doing\n"
          ]
        }
      ]
    },
    {
      "cell_type": "code",
      "source": [
        "\n",
        "def greet(name, location):\n",
        "  print('Hi{} how are you doing'.format(name))\n",
        "  print(\"Isn't it a nice weather today in\", location)\n",
        "greet('Hyderabad', 'satish')"
      ],
      "metadata": {
        "colab": {
          "base_uri": "https://localhost:8080/"
        },
        "id": "sMcpfYTnTKwp",
        "outputId": "22d80871-0d94-45c1-cff2-9ea17c7b9b02"
      },
      "execution_count": null,
      "outputs": [
        {
          "output_type": "stream",
          "name": "stdout",
          "text": [
            "HiHyderabad how are you doing\n",
            "Isn't it a nice weather today in satish\n"
          ]
        }
      ]
    },
    {
      "cell_type": "code",
      "source": [
        "\n",
        "def greet(name, location):\n",
        "  print('Hi{} how are you doing'.format(name))\n",
        "  print(\"Isn't it a nice weather today in\", location)\n",
        "greet(location='Hyderabad', name='satish')"
      ],
      "metadata": {
        "colab": {
          "base_uri": "https://localhost:8080/"
        },
        "id": "3jSLAySpXk3q",
        "outputId": "9a9f9e45-bc35-4acc-d039-458c4d48ff79"
      },
      "execution_count": null,
      "outputs": [
        {
          "output_type": "stream",
          "name": "stdout",
          "text": [
            "Hisatish how are you doing\n",
            "Isn't it a nice weather today in Hyderabad\n"
          ]
        }
      ]
    },
    {
      "cell_type": "code",
      "source": [
        "def f(a, b, c):\n",
        "    print((a + b + c)/3)\n",
        "f(3, 5, 7)"
      ],
      "metadata": {
        "id": "Y8m-PQFzYXIV"
      },
      "execution_count": null,
      "outputs": []
    },
    {
      "cell_type": "code",
      "source": [
        "def f(a, b, c):\n",
        "  return ((a+b+c)/3)\n",
        "f(1, 2, c=3)"
      ],
      "metadata": {
        "colab": {
          "base_uri": "https://localhost:8080/"
        },
        "id": "vV0kSoRlYmHh",
        "outputId": "3cebae58-1f7c-403e-fd97-68e577b16018"
      },
      "execution_count": null,
      "outputs": [
        {
          "output_type": "execute_result",
          "data": {
            "text/plain": [
              "2.0"
            ]
          },
          "metadata": {},
          "execution_count": 30
        }
      ]
    },
    {
      "cell_type": "code",
      "source": [
        "def f(a, b, c):\n",
        "  return ((a+b+c)/3)\n",
        "f(c=1, 2, 3)"
      ],
      "metadata": {
        "colab": {
          "base_uri": "https://localhost:8080/",
          "height": 142
        },
        "id": "MP6hM8hlZSIU",
        "outputId": "b96f6944-0efb-4644-eb4f-69d247eb4266"
      },
      "execution_count": null,
      "outputs": [
        {
          "output_type": "error",
          "ename": "SyntaxError",
          "evalue": "positional argument follows keyword argument (<ipython-input-31-29501837a790>, line 3)",
          "traceback": [
            "\u001b[0;36m  File \u001b[0;32m\"<ipython-input-31-29501837a790>\"\u001b[0;36m, line \u001b[0;32m3\u001b[0m\n\u001b[0;31m    f(a=1, 2, 3)\u001b[0m\n\u001b[0m               ^\u001b[0m\n\u001b[0;31mSyntaxError\u001b[0m\u001b[0;31m:\u001b[0m positional argument follows keyword argument\n"
          ]
        }
      ]
    },
    {
      "cell_type": "code",
      "source": [
        "f(1, c=2, 3)"
      ],
      "metadata": {
        "colab": {
          "base_uri": "https://localhost:8080/",
          "height": 142
        },
        "id": "LJlcUjoxZtVs",
        "outputId": "1e898894-a0cd-46db-8770-a7872c270094"
      },
      "execution_count": null,
      "outputs": [
        {
          "output_type": "error",
          "ename": "SyntaxError",
          "evalue": "positional argument follows keyword argument (<ipython-input-32-52bf659a685e>, line 1)",
          "traceback": [
            "\u001b[0;36m  File \u001b[0;32m\"<ipython-input-32-52bf659a685e>\"\u001b[0;36m, line \u001b[0;32m1\u001b[0m\n\u001b[0;31m    f(1, c=2, 3)\u001b[0m\n\u001b[0m               ^\u001b[0m\n\u001b[0;31mSyntaxError\u001b[0m\u001b[0;31m:\u001b[0m positional argument follows keyword argument\n"
          ]
        }
      ]
    },
    {
      "cell_type": "code",
      "source": [
        "f(1, 3, b=2)"
      ],
      "metadata": {
        "colab": {
          "base_uri": "https://localhost:8080/",
          "height": 176
        },
        "id": "yuJmlFE6aBWB",
        "outputId": "62fa7b43-3221-4d39-abf4-cf7e7cf5b79f"
      },
      "execution_count": null,
      "outputs": [
        {
          "output_type": "error",
          "ename": "TypeError",
          "evalue": "f() got multiple values for argument 'b'",
          "traceback": [
            "\u001b[0;31m---------------------------------------------------------------------------\u001b[0m",
            "\u001b[0;31mTypeError\u001b[0m                                 Traceback (most recent call last)",
            "\u001b[0;32m<ipython-input-33-9155ca46cca5>\u001b[0m in \u001b[0;36m<cell line: 1>\u001b[0;34m()\u001b[0m\n\u001b[0;32m----> 1\u001b[0;31m \u001b[0mf\u001b[0m\u001b[0;34m(\u001b[0m\u001b[0;36m1\u001b[0m\u001b[0;34m,\u001b[0m \u001b[0;36m3\u001b[0m\u001b[0;34m,\u001b[0m \u001b[0mb\u001b[0m\u001b[0;34m=\u001b[0m\u001b[0;36m2\u001b[0m\u001b[0;34m)\u001b[0m\u001b[0;34m\u001b[0m\u001b[0;34m\u001b[0m\u001b[0m\n\u001b[0m",
            "\u001b[0;31mTypeError\u001b[0m: f() got multiple values for argument 'b'"
          ]
        }
      ]
    },
    {
      "cell_type": "markdown",
      "source": [
        "### Rule 1: Positional arguments can't appear after the keyword argument"
      ],
      "metadata": {
        "id": "UsU7E_BVZeeE"
      }
    },
    {
      "cell_type": "code",
      "source": [
        "def power(number,exponent):\n",
        "    return number**exponent\n",
        "\n",
        "print(power(exponent=2,number=3))"
      ],
      "metadata": {
        "colab": {
          "base_uri": "https://localhost:8080/"
        },
        "id": "Fo0YSzyjafZU",
        "outputId": "1cdf9b73-46bf-43b2-e583-f55f83b5e534"
      },
      "execution_count": null,
      "outputs": [
        {
          "output_type": "stream",
          "name": "stdout",
          "text": [
            "9\n"
          ]
        }
      ]
    },
    {
      "cell_type": "code",
      "source": [
        "# Default Argument\n",
        "\n",
        "def greet(name, location='Hyderabad'):\n",
        "  print('Hi{} how are you doing'.format(name))\n",
        "  print(\"Isn't it a nice weather today in\", location)\n",
        "greet('satish', 'Delhi')"
      ],
      "metadata": {
        "colab": {
          "base_uri": "https://localhost:8080/"
        },
        "id": "uhwCKwCJaw_J",
        "outputId": "a3cf1867-1860-4f95-e985-cc971a1babd9"
      },
      "execution_count": null,
      "outputs": [
        {
          "output_type": "stream",
          "name": "stdout",
          "text": [
            "Hisatish how are you doing\n",
            "Isn't it a nice weather today in Delhi\n"
          ]
        }
      ]
    },
    {
      "cell_type": "code",
      "source": [
        "def xyz(a=1, b):\n",
        "  return a+b\n",
        "\n",
        "xyz(10, 20)"
      ],
      "metadata": {
        "colab": {
          "base_uri": "https://localhost:8080/",
          "height": 142
        },
        "id": "6S_DWiAYbm5F",
        "outputId": "cd5f4c3d-a974-45d9-fa73-0b654bb2b565"
      },
      "execution_count": null,
      "outputs": [
        {
          "output_type": "error",
          "ename": "SyntaxError",
          "evalue": "non-default argument follows default argument (<ipython-input-37-2acb8bc25699>, line 1)",
          "traceback": [
            "\u001b[0;36m  File \u001b[0;32m\"<ipython-input-37-2acb8bc25699>\"\u001b[0;36m, line \u001b[0;32m1\u001b[0m\n\u001b[0;31m    def xyz(a=1, b):\u001b[0m\n\u001b[0m                 ^\u001b[0m\n\u001b[0;31mSyntaxError\u001b[0m\u001b[0;31m:\u001b[0m non-default argument follows default argument\n"
          ]
        }
      ]
    },
    {
      "cell_type": "code",
      "source": [
        "def f(a, b, c, d, e=1, f):\n",
        "    return a+b+c+d-e-f\n",
        "\n",
        "f(1, 2, 3, 4)"
      ],
      "metadata": {
        "colab": {
          "base_uri": "https://localhost:8080/",
          "height": 142
        },
        "id": "LgMEZ2GtcQfF",
        "outputId": "db9a8d68-3373-4e53-b923-57ddd3347a02"
      },
      "execution_count": null,
      "outputs": [
        {
          "output_type": "error",
          "ename": "SyntaxError",
          "evalue": "non-default argument follows default argument (<ipython-input-38-128e8387f0a3>, line 1)",
          "traceback": [
            "\u001b[0;36m  File \u001b[0;32m\"<ipython-input-38-128e8387f0a3>\"\u001b[0;36m, line \u001b[0;32m1\u001b[0m\n\u001b[0;31m    def f(a, b, c, d, e=1, f):\u001b[0m\n\u001b[0m                           ^\u001b[0m\n\u001b[0;31mSyntaxError\u001b[0m\u001b[0;31m:\u001b[0m non-default argument follows default argument\n"
          ]
        }
      ]
    },
    {
      "cell_type": "markdown",
      "source": [
        "## Doubt session"
      ],
      "metadata": {
        "id": "Gw9p6yttd17x"
      }
    },
    {
      "cell_type": "code",
      "source": [
        "A= int(input())\n",
        "B= int(input())\n",
        "x= max(A, B)\n",
        "while True:\n",
        "  if x% A==0 and x % B==0:\n",
        "    print(x)\n",
        "    break\n",
        "  x+=1"
      ],
      "metadata": {
        "colab": {
          "base_uri": "https://localhost:8080/"
        },
        "id": "Qy2NYcuHd3JU",
        "outputId": "84f63044-7a83-4c33-c36d-65c9a7560b64"
      },
      "execution_count": null,
      "outputs": [
        {
          "output_type": "stream",
          "name": "stdout",
          "text": [
            "10\n",
            "25\n",
            "50\n"
          ]
        }
      ]
    }
  ]
}