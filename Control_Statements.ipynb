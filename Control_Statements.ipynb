{
  "nbformat": 4,
  "nbformat_minor": 0,
  "metadata": {
    "colab": {
      "provenance": []
    },
    "kernelspec": {
      "name": "python3",
      "display_name": "Python 3"
    },
    "language_info": {
      "name": "python"
    }
  },
  "cells": [
    {
      "cell_type": "markdown",
      "source": [
        "## Control Statments\n",
        "\n",
        "- Flow chart\n",
        "- Syntax\n",
        "- Indentation\n",
        "- if Block\n",
        "- if-else Block\n",
        "- if-elif-else\n",
        "- Nested if-else"
      ],
      "metadata": {
        "id": "_9Qph5Vt1yGu"
      }
    },
    {
      "cell_type": "code",
      "execution_count": null,
      "metadata": {
        "colab": {
          "base_uri": "https://localhost:8080/"
        },
        "id": "WdjuXf1y1vx5",
        "outputId": "5c202e1e-46a9-49ae-92c4-3bea3ace34be"
      },
      "outputs": [
        {
          "output_type": "stream",
          "name": "stdout",
          "text": [
            "5 is greater than 1\n",
            "Well done\n",
            "Hello Everyone\n"
          ]
        }
      ],
      "source": [
        "if 5 > 1:\n",
        "  print(\"5 is greater than 1\")\n",
        "  print('Well done')\n",
        "print('Hello Everyone')"
      ]
    },
    {
      "cell_type": "code",
      "source": [
        "if 5 < 1:\n",
        "  print(\"5 is greater than 1\")\n",
        "  print('Well done')\n",
        "print('Hello Everyone')"
      ],
      "metadata": {
        "id": "sfeIGP7CDYGv"
      },
      "execution_count": null,
      "outputs": []
    },
    {
      "cell_type": "code",
      "source": [
        "temp = int(input())\n",
        "if temp < 15:\n",
        "  print('Wear a jacket')"
      ],
      "metadata": {
        "colab": {
          "base_uri": "https://localhost:8080/"
        },
        "id": "l7VziRibDyWa",
        "outputId": "43674564-d756-4ed4-be8c-3640473cfd23"
      },
      "execution_count": null,
      "outputs": [
        {
          "output_type": "stream",
          "name": "stdout",
          "text": [
            "10\n",
            "Wear a jacket\n"
          ]
        }
      ]
    },
    {
      "cell_type": "code",
      "source": [
        "x = 5\n",
        "y = 10\n",
        "print('hello')\n",
        "if x < y:\n",
        "  print('Bye')\n",
        "print('Hello world')"
      ],
      "metadata": {
        "colab": {
          "base_uri": "https://localhost:8080/"
        },
        "id": "upYQgB3iD684",
        "outputId": "0d02a667-e6b0-43f2-ce4b-24d1025d7022"
      },
      "execution_count": null,
      "outputs": [
        {
          "output_type": "stream",
          "name": "stdout",
          "text": [
            "hello\n",
            "Bye\n",
            "Hello world\n"
          ]
        }
      ]
    },
    {
      "cell_type": "code",
      "source": [
        "x = 5\n",
        "if x == 5:\n",
        "  x = 7\n",
        "print(x)"
      ],
      "metadata": {
        "colab": {
          "base_uri": "https://localhost:8080/"
        },
        "id": "xzHH_VZiEumh",
        "outputId": "37f20489-f45d-4e6f-836f-9db79a015dab"
      },
      "execution_count": null,
      "outputs": [
        {
          "output_type": "stream",
          "name": "stdout",
          "text": [
            "7\n"
          ]
        }
      ]
    },
    {
      "cell_type": "code",
      "source": [
        "#What should you write to check if number n is positive?\n",
        "n = 10\n",
        "if n>0:\n",
        "    print('Input number is positive.')"
      ],
      "metadata": {
        "colab": {
          "base_uri": "https://localhost:8080/"
        },
        "id": "K7xFtKmxFaX_",
        "outputId": "583ce839-3267-464f-8c71-72b97854a5ed"
      },
      "execution_count": null,
      "outputs": [
        {
          "output_type": "stream",
          "name": "stdout",
          "text": [
            "Input number is positive.\n"
          ]
        }
      ]
    },
    {
      "cell_type": "code",
      "source": [
        "temp = int(input())\n",
        "if temp < 15:\n",
        "  print('Wear a jacket')\n",
        "else:\n",
        "  print('Wear a T-shirt')"
      ],
      "metadata": {
        "colab": {
          "base_uri": "https://localhost:8080/"
        },
        "id": "PGD3Vm_fGnVE",
        "outputId": "acbcb478-733a-46c6-99f0-cb55813b4f38"
      },
      "execution_count": null,
      "outputs": [
        {
          "output_type": "stream",
          "name": "stdout",
          "text": [
            "20\n",
            "Wear a T-shirt\n"
          ]
        }
      ]
    },
    {
      "cell_type": "code",
      "source": [
        "#Pasword checker\n",
        "pass1 = input('enter the password')\n",
        "pass2 = input('re enter the password')\n",
        "\n",
        "# Check the condition\n",
        "if pass1 == pass2:\n",
        "  print('Pasword match')\n",
        "else:\n",
        "  print('Password mismatch')"
      ],
      "metadata": {
        "colab": {
          "base_uri": "https://localhost:8080/"
        },
        "id": "ztNZJOLJHW_c",
        "outputId": "ae8fdbd2-4b11-4914-e55f-16378a7f8bfc"
      },
      "execution_count": null,
      "outputs": [
        {
          "output_type": "stream",
          "name": "stdout",
          "text": [
            "enter the password123\n",
            "re enter the password1234\n",
            "Password mismatch\n"
          ]
        }
      ]
    },
    {
      "cell_type": "code",
      "source": [
        "#Quiz\n",
        "\n",
        "x = 5\n",
        "if x > 10:\n",
        "    print(\"Hello\")\n",
        "else:\n",
        "    print(\"World\")"
      ],
      "metadata": {
        "colab": {
          "base_uri": "https://localhost:8080/"
        },
        "id": "E4hUqgtiIg0V",
        "outputId": "7b901ceb-0dff-4ef2-d347-5e687b7c7c5e"
      },
      "execution_count": null,
      "outputs": [
        {
          "output_type": "stream",
          "name": "stdout",
          "text": [
            "World\n"
          ]
        }
      ]
    },
    {
      "cell_type": "code",
      "source": [
        "x = -15\n",
        "if x:\n",
        "    print(\"True\")\n",
        "else:\n",
        "    print(\"False\")"
      ],
      "metadata": {
        "colab": {
          "base_uri": "https://localhost:8080/"
        },
        "id": "qrKKt7QDJMTQ",
        "outputId": "7b4ce9d9-2a28-47f4-d23c-552466c70166"
      },
      "execution_count": null,
      "outputs": [
        {
          "output_type": "stream",
          "name": "stdout",
          "text": [
            "True\n"
          ]
        }
      ]
    },
    {
      "cell_type": "code",
      "source": [
        "# Quiz\n",
        "\n",
        "a = 10\n",
        "b = 20\n",
        "res = 4000\n",
        "if a > 50 or b <= 5:\n",
        "    res = a*b\n",
        "else:\n",
        "    res = a + b\n",
        "print(res)"
      ],
      "metadata": {
        "colab": {
          "base_uri": "https://localhost:8080/"
        },
        "id": "apeINJQ9KKoM",
        "outputId": "cab480ee-ee58-4ad0-a615-f513a44723df"
      },
      "execution_count": null,
      "outputs": [
        {
          "output_type": "stream",
          "name": "stdout",
          "text": [
            "30\n"
          ]
        }
      ]
    },
    {
      "cell_type": "code",
      "source": [
        "# Favourite Programming Language [Frist Variation]\n",
        "\n",
        "lang = input('enter your favourite Programming langauage')\n",
        "\n",
        "if lang == 'python' or lang=='java':\n",
        "  print('Nice Choice')\n",
        "else:\n",
        "  print(\"I don't know that langauge\")"
      ],
      "metadata": {
        "colab": {
          "base_uri": "https://localhost:8080/"
        },
        "id": "wksisxy6Nqet",
        "outputId": "d6d07e7a-6666-472f-ce98-563fe742d9ee"
      },
      "execution_count": null,
      "outputs": [
        {
          "output_type": "stream",
          "name": "stdout",
          "text": [
            "enter your favourite Programming langauageJava\n",
            "I don't know that langauge\n"
          ]
        }
      ]
    },
    {
      "cell_type": "code",
      "source": [
        "# Favourite Programming Language [Second Variation]\n",
        "\n",
        "lang = input('enter your favourite Programming langauage')\n",
        "\n",
        "if lang == 'python' or lang=='java':\n",
        "  print('Nice Choice')\n",
        "else:\n",
        "  if lang == 'c++':\n",
        "    print('Too old school')\n",
        "  else:\n",
        "    print(\"I don't know that langauage\")"
      ],
      "metadata": {
        "colab": {
          "base_uri": "https://localhost:8080/"
        },
        "id": "I_TIBbnvRKF6",
        "outputId": "98b83686-b36f-4532-820e-404a364814fb"
      },
      "execution_count": null,
      "outputs": [
        {
          "output_type": "stream",
          "name": "stdout",
          "text": [
            "enter your favourite Programming langauagec++\n",
            "Too old school\n"
          ]
        }
      ]
    },
    {
      "cell_type": "code",
      "source": [
        "# Favourite Programming Language [Second Variation]\n",
        "\n",
        "lang = input('enter your favourite Programming langauage')\n",
        "\n",
        "if lang == 'python' or lang=='java':\n",
        "  print('Nice Choice')\n",
        "else:\n",
        "  if lang == 'golang':\n",
        "    print(\"You're a cool person I see...\")\n",
        "  else:\n",
        "    if lang == 'javascript':\n",
        "      print('Okay so you are our web developer!')\n",
        "    else:\n",
        "      if lang == 'c++':\n",
        "        print(\"Too old school...\")\n",
        "      else:\n",
        "        print(\"I don't know that language.\")"
      ],
      "metadata": {
        "colab": {
          "base_uri": "https://localhost:8080/"
        },
        "id": "77tQzFcLSB0q",
        "outputId": "a6be29ca-26f4-40a9-ffa8-1454cc6b1b25"
      },
      "execution_count": null,
      "outputs": [
        {
          "output_type": "stream",
          "name": "stdout",
          "text": [
            "enter your favourite Programming langauagec++\n",
            "Too old school...\n"
          ]
        }
      ]
    },
    {
      "cell_type": "code",
      "source": [
        "lang = input('enter your favourite Programming langauage')\n",
        "\n",
        "if lang == 'python' or lang=='java':\n",
        "  print('Nice Choice')\n",
        "elif lang == 'golang':\n",
        "  print(\"You're a cool person I see...\")\n",
        "elif lang == 'javascript':\n",
        "  print('Okay so you are our web developer!')\n",
        "elif lang == 'c++':\n",
        "  print(\"Too old school...\")\n",
        "else:\n",
        "  print(\"I don't know that language.\")"
      ],
      "metadata": {
        "colab": {
          "base_uri": "https://localhost:8080/"
        },
        "id": "XuCNaWjtShim",
        "outputId": "acd9409b-40f7-4bcf-883a-3c5374f6d5e8"
      },
      "execution_count": null,
      "outputs": [
        {
          "output_type": "stream",
          "name": "stdout",
          "text": [
            "enter your favourite Programming langauagescala\n",
            "I don't know that language.\n"
          ]
        }
      ]
    },
    {
      "cell_type": "code",
      "source": [
        "# Quiz\n",
        "\n",
        "x = 5\n",
        "if x > 2:\n",
        "    if x < 10:\n",
        "        print(\"x is between 2 and 10\")\n",
        "    else:\n",
        "        print(\"x is greater than or equal to 10\")\n",
        "else:\n",
        "    print(\"x is less than or equal to 2\")"
      ],
      "metadata": {
        "colab": {
          "base_uri": "https://localhost:8080/"
        },
        "id": "Bept4akzUJUe",
        "outputId": "7f304450-29d5-4701-a421-b303a62fc7d1"
      },
      "execution_count": null,
      "outputs": [
        {
          "output_type": "stream",
          "name": "stdout",
          "text": [
            "x is between 2 and 10\n"
          ]
        }
      ]
    },
    {
      "cell_type": "code",
      "source": [
        "# Quiz\n",
        "age = 15\n",
        "if age < 18:\n",
        "    print(\"You are not eligible to vote\")\n",
        "elif age >= 18 and age < 21:\n",
        "    print(\"You can vote but can't drink\")\n",
        "else:\n",
        "    print(\"You can vote and drink\")"
      ],
      "metadata": {
        "colab": {
          "base_uri": "https://localhost:8080/"
        },
        "id": "35sGmvBKUwsH",
        "outputId": "a67146f3-5ecf-4ae4-9983-77f5a48395d5"
      },
      "execution_count": null,
      "outputs": [
        {
          "output_type": "stream",
          "name": "stdout",
          "text": [
            "You are not eligible to vote\n"
          ]
        }
      ]
    },
    {
      "cell_type": "code",
      "source": [
        "# Quiz\n",
        "\n",
        "if False:\n",
        "    print(\"Artificial Intelligence\")\n",
        "elif False:\n",
        "    print(\"Machine Learning\")\n",
        "elif False:\n",
        "    print(\"Data Science\")\n",
        "else:\n",
        "    print(\"Deep Learning\")"
      ],
      "metadata": {
        "colab": {
          "base_uri": "https://localhost:8080/"
        },
        "id": "TwaC9mvvVQWu",
        "outputId": "1f9b1487-9128-4bdd-e21b-f7bbd56c64db"
      },
      "execution_count": null,
      "outputs": [
        {
          "output_type": "stream",
          "name": "stdout",
          "text": [
            "Deep Learning\n"
          ]
        }
      ]
    },
    {
      "cell_type": "code",
      "source": [
        "# Quiz\n",
        "\n",
        "a = 1\n",
        "b = 0\n",
        "c = 1\n",
        "if (a and b):\n",
        "    print(\"Scaler is awesome\")\n",
        "elif (a and c):\n",
        "    print(\"ML is fun\")\n",
        "\n",
        "elif (a and b and c):\n",
        "    print(\"Python is amazing\")\n",
        "elif (a or b or c):\n",
        "    print(\"I love DS\")\n"
      ],
      "metadata": {
        "colab": {
          "base_uri": "https://localhost:8080/"
        },
        "id": "DH4aubbrV_Th",
        "outputId": "9981dcc4-63fd-4868-b625-c4cb986d7474"
      },
      "execution_count": null,
      "outputs": [
        {
          "output_type": "stream",
          "name": "stdout",
          "text": [
            "ML is fun\n"
          ]
        }
      ]
    },
    {
      "cell_type": "code",
      "source": [],
      "metadata": {
        "id": "gwXk0O0UbN96"
      },
      "execution_count": null,
      "outputs": []
    },
    {
      "cell_type": "code",
      "source": [
        "#Doubt\n",
        "\n",
        "a=1\n",
        "b=0\n",
        "c=1\n",
        "if a and b:\n",
        "  print(\"A\")\n",
        "elif a and c:\n",
        "  print(\"B\")\n",
        "if(a and c or b):\n",
        "  print(\"C\")\n",
        "if(a or c or b):\n",
        "  print(\"D\")"
      ],
      "metadata": {
        "colab": {
          "base_uri": "https://localhost:8080/"
        },
        "id": "cxtLHEJeZ66X",
        "outputId": "56070bfd-022c-4cf9-e278-2e10cf66eeda"
      },
      "execution_count": null,
      "outputs": [
        {
          "output_type": "stream",
          "name": "stdout",
          "text": [
            "B\n",
            "C\n",
            "D\n"
          ]
        }
      ]
    },
    {
      "cell_type": "code",
      "source": [
        "a = 100\n",
        "a **=2\n",
        "print(a)"
      ],
      "metadata": {
        "colab": {
          "base_uri": "https://localhost:8080/"
        },
        "id": "qKQceD1KbOdO",
        "outputId": "45310eeb-93a5-4793-cbc2-fbe6603d9742"
      },
      "execution_count": null,
      "outputs": [
        {
          "output_type": "stream",
          "name": "stdout",
          "text": [
            "10000\n"
          ]
        }
      ]
    }
  ]
}