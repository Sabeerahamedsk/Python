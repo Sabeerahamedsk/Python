{
  "nbformat": 4,
  "nbformat_minor": 0,
  "metadata": {
    "colab": {
      "provenance": []
    },
    "kernelspec": {
      "name": "python3",
      "display_name": "Python 3"
    },
    "language_info": {
      "name": "python"
    }
  },
  "cells": [
    {
      "cell_type": "markdown",
      "source": [
        "## Agenda\n",
        "- Why functional Programming?\n",
        "- map()\n",
        "- filter()\n",
        "- reduce()\n",
        "- args, kwargs"
      ],
      "metadata": {
        "id": "PO4yirICZ7Fn"
      }
    },
    {
      "cell_type": "code",
      "execution_count": null,
      "metadata": {
        "id": "zw-MaVoiZ3X9"
      },
      "outputs": [],
      "source": [
        "x = 5\n",
        "\n",
        "def mutation(x):\n",
        "  x = 3*x\n",
        "  x += 1\n",
        "  return x\n",
        "x1 = mutation(x)\n",
        "print(x, x1)"
      ]
    },
    {
      "cell_type": "code",
      "source": [
        "## Map function\n",
        "\n",
        "a = [1, 2, 3, 4, 5]\n",
        "\n",
        "def f(x):\n",
        "  return x**2\n",
        "list(map(f, a))"
      ],
      "metadata": {
        "colab": {
          "base_uri": "https://localhost:8080/"
        },
        "id": "4lrUiGUZkVIR",
        "outputId": "746f16f4-3d71-42e5-f4a5-03c333af475c"
      },
      "execution_count": null,
      "outputs": [
        {
          "output_type": "execute_result",
          "data": {
            "text/plain": [
              "[1, 4, 9, 16, 25]"
            ]
          },
          "metadata": {},
          "execution_count": 3
        }
      ]
    },
    {
      "cell_type": "code",
      "source": [
        "list(map(lambda x: x**2, a))"
      ],
      "metadata": {
        "colab": {
          "base_uri": "https://localhost:8080/"
        },
        "id": "LLTUz3pfk8Pr",
        "outputId": "bb497572-09ff-4ba8-f7cd-bf6f0d8bb407"
      },
      "execution_count": null,
      "outputs": [
        {
          "output_type": "execute_result",
          "data": {
            "text/plain": [
              "[1, 4, 9, 16, 25]"
            ]
          },
          "metadata": {},
          "execution_count": 4
        }
      ]
    },
    {
      "cell_type": "code",
      "source": [
        "help(map)"
      ],
      "metadata": {
        "colab": {
          "base_uri": "https://localhost:8080/"
        },
        "id": "OUMsky0klOP0",
        "outputId": "7f524694-c845-4fb6-eace-1a4e8a7d53d3"
      },
      "execution_count": null,
      "outputs": [
        {
          "output_type": "stream",
          "name": "stdout",
          "text": [
            "Help on class map in module builtins:\n",
            "\n",
            "class map(object)\n",
            " |  map(func, *iterables) --> map object\n",
            " |  \n",
            " |  Make an iterator that computes the function using arguments from\n",
            " |  each of the iterables.  Stops when the shortest iterable is exhausted.\n",
            " |  \n",
            " |  Methods defined here:\n",
            " |  \n",
            " |  __getattribute__(self, name, /)\n",
            " |      Return getattr(self, name).\n",
            " |  \n",
            " |  __iter__(self, /)\n",
            " |      Implement iter(self).\n",
            " |  \n",
            " |  __next__(self, /)\n",
            " |      Implement next(self).\n",
            " |  \n",
            " |  __reduce__(...)\n",
            " |      Return state information for pickling.\n",
            " |  \n",
            " |  ----------------------------------------------------------------------\n",
            " |  Static methods defined here:\n",
            " |  \n",
            " |  __new__(*args, **kwargs) from builtins.type\n",
            " |      Create and return a new object.  See help(type) for accurate signature.\n",
            "\n"
          ]
        }
      ]
    },
    {
      "cell_type": "code",
      "source": [
        "heights = [144, 167, 189, 170, 190, 150, 165, 178, 200]\n",
        "\n",
        "\n",
        "list(map(lambda x: 'M' if x<=150 else 'L', heights))"
      ],
      "metadata": {
        "colab": {
          "base_uri": "https://localhost:8080/"
        },
        "id": "hfhEb0DmmsZr",
        "outputId": "5cf4d33a-41d1-4a68-ac27-63ac1442576a"
      },
      "execution_count": null,
      "outputs": [
        {
          "output_type": "execute_result",
          "data": {
            "text/plain": [
              "['M', 'L', 'L', 'L', 'L', 'M', 'L', 'L', 'L']"
            ]
          },
          "metadata": {},
          "execution_count": 6
        }
      ]
    },
    {
      "cell_type": "code",
      "source": [
        "lst1 = [1, 2, 3,4]\n",
        "lst2 = [4, 5, 6]\n",
        "list(map(lambda x, y: x+y, lst1,lst2))"
      ],
      "metadata": {
        "colab": {
          "base_uri": "https://localhost:8080/"
        },
        "id": "54NWccL-nQDK",
        "outputId": "a831c6cf-ff38-4794-a395-d757994c4c0d"
      },
      "execution_count": null,
      "outputs": [
        {
          "output_type": "execute_result",
          "data": {
            "text/plain": [
              "[5, 7, 9]"
            ]
          },
          "metadata": {},
          "execution_count": 11
        }
      ]
    },
    {
      "cell_type": "code",
      "source": [],
      "metadata": {
        "id": "0rwDqI8ephKI"
      },
      "execution_count": null,
      "outputs": []
    },
    {
      "cell_type": "code",
      "source": [
        "lst1 + lst2"
      ],
      "metadata": {
        "colab": {
          "base_uri": "https://localhost:8080/"
        },
        "id": "A7WokRtIoiU7",
        "outputId": "a3f188da-f6bf-432a-d932-1b36bc4b696a"
      },
      "execution_count": null,
      "outputs": [
        {
          "output_type": "execute_result",
          "data": {
            "text/plain": [
              "[1, 2, 3, 4, 5, 6]"
            ]
          },
          "metadata": {},
          "execution_count": 10
        }
      ]
    },
    {
      "cell_type": "code",
      "source": [
        "list1 = [1, 0, 1]\n",
        "list2 = [0, 0, 1]\n",
        "res = list(map(lambda x, y:  x == y, list1, list2))\n",
        "print(res)"
      ],
      "metadata": {
        "colab": {
          "base_uri": "https://localhost:8080/"
        },
        "id": "CYQZJQKqphvM",
        "outputId": "9d645377-4995-4aee-d212-c3771bd689b0"
      },
      "execution_count": null,
      "outputs": [
        {
          "output_type": "stream",
          "name": "stdout",
          "text": [
            "[False, True, True]\n"
          ]
        }
      ]
    },
    {
      "cell_type": "code",
      "source": [
        "s1 = 'satish'\n",
        "s2 = 'Satish'\n",
        "list(map(lambda x, y: x==y, s1, s2))"
      ],
      "metadata": {
        "colab": {
          "base_uri": "https://localhost:8080/"
        },
        "id": "0mG9S40ipxPc",
        "outputId": "8e6dce5a-c335-4be5-a971-a430f386e71a"
      },
      "execution_count": null,
      "outputs": [
        {
          "output_type": "execute_result",
          "data": {
            "text/plain": [
              "[False, True, True, True, True, True]"
            ]
          },
          "metadata": {},
          "execution_count": 15
        }
      ]
    },
    {
      "cell_type": "code",
      "source": [
        "lst = [1, 2, 3, 4, 5]\n",
        "list(map(lambda x: x%2 == 0, lst))"
      ],
      "metadata": {
        "colab": {
          "base_uri": "https://localhost:8080/"
        },
        "id": "PjJn0MJ7qvce",
        "outputId": "d8be7315-faa8-4954-f0c4-3a82884d475c"
      },
      "execution_count": null,
      "outputs": [
        {
          "output_type": "execute_result",
          "data": {
            "text/plain": [
              "[False, True, False, True, False]"
            ]
          },
          "metadata": {},
          "execution_count": 16
        }
      ]
    },
    {
      "cell_type": "code",
      "source": [
        "list(filter(lambda x: x%2==0, lst))"
      ],
      "metadata": {
        "colab": {
          "base_uri": "https://localhost:8080/"
        },
        "id": "KemqOSoUrOyY",
        "outputId": "fe1289f4-c3db-4055-9d6f-7f3f22639b50"
      },
      "execution_count": null,
      "outputs": [
        {
          "output_type": "execute_result",
          "data": {
            "text/plain": [
              "[2, 4]"
            ]
          },
          "metadata": {},
          "execution_count": 17
        }
      ]
    },
    {
      "cell_type": "code",
      "source": [
        "l = [1, 10, -3, 4, 15]\n",
        "def f(x):\n",
        "  return x < 6\n",
        "\n",
        "m1 = filter(f, l)\n",
        "\n",
        "print(tuple(m1))"
      ],
      "metadata": {
        "colab": {
          "base_uri": "https://localhost:8080/"
        },
        "id": "UPURzTrTsDys",
        "outputId": "b28ca1fb-004b-4bd0-fa3a-d40a9beb542c"
      },
      "execution_count": null,
      "outputs": [
        {
          "output_type": "stream",
          "name": "stdout",
          "text": [
            "(1, -3, 4)\n"
          ]
        }
      ]
    },
    {
      "cell_type": "code",
      "source": [],
      "metadata": {
        "id": "iwVyXfnmtepI"
      },
      "execution_count": null,
      "outputs": []
    },
    {
      "cell_type": "code",
      "source": [
        "m1 = filter(f, l)"
      ],
      "metadata": {
        "colab": {
          "base_uri": "https://localhost:8080/"
        },
        "id": "Z9-Bjhi4tTJe",
        "outputId": "96a05b42-08a6-4831-ab5f-144807ec12dc"
      },
      "execution_count": null,
      "outputs": [
        {
          "output_type": "execute_result",
          "data": {
            "text/plain": [
              "<filter at 0x7db94b7aa650>"
            ]
          },
          "metadata": {},
          "execution_count": 19
        }
      ]
    },
    {
      "cell_type": "code",
      "source": [
        "## Zip\n",
        "\n",
        "\n",
        "def f(a, b):\n",
        "  return a+b, a*b\n",
        "\n",
        "a, b = f(10, 20)\n",
        "print(a, b)\n"
      ],
      "metadata": {
        "colab": {
          "base_uri": "https://localhost:8080/"
        },
        "id": "_KuD9FgZtfdh",
        "outputId": "2dd4c3c1-4b54-46d3-b880-6cd0c698cd72"
      },
      "execution_count": null,
      "outputs": [
        {
          "output_type": "stream",
          "name": "stdout",
          "text": [
            "30 200\n"
          ]
        }
      ]
    },
    {
      "cell_type": "code",
      "source": [
        "lst1 = [1, 2, 3]\n",
        "lst2 = ['a', 'b', 'c']\n",
        "list(zip(lst1, lst2))"
      ],
      "metadata": {
        "colab": {
          "base_uri": "https://localhost:8080/"
        },
        "id": "AVgEHgh4vjWB",
        "outputId": "0d36a238-e619-4308-85c6-dee5f79f3985"
      },
      "execution_count": null,
      "outputs": [
        {
          "output_type": "execute_result",
          "data": {
            "text/plain": [
              "[(1, 'a'), (2, 'b'), (3, 'c')]"
            ]
          },
          "metadata": {},
          "execution_count": 23
        }
      ]
    },
    {
      "cell_type": "code",
      "source": [
        "a = [1, 2, 3]\n",
        "b = ('a', 'b', 'c', 'd')\n",
        "c = ['x', 'y', 'z']\n",
        "\n",
        "list(zip(a, b, c))"
      ],
      "metadata": {
        "colab": {
          "base_uri": "https://localhost:8080/"
        },
        "id": "DvNxGErKv-h9",
        "outputId": "44d8f4ee-d6db-4899-e11b-e95b04220ac9"
      },
      "execution_count": null,
      "outputs": [
        {
          "output_type": "execute_result",
          "data": {
            "text/plain": [
              "[(1, 'a', 'x'), (2, 'b', 'y'), (3, 'c', 'z')]"
            ]
          },
          "metadata": {},
          "execution_count": 25
        }
      ]
    },
    {
      "cell_type": "code",
      "source": [
        "from functools import reduce"
      ],
      "metadata": {
        "id": "LYcVYY2Rxi-r"
      },
      "execution_count": null,
      "outputs": []
    },
    {
      "cell_type": "code",
      "source": [
        "lst = [1, 2, 3, 4, 5]\n",
        "reduce(lambda x,y: x+y, lst)"
      ],
      "metadata": {
        "colab": {
          "base_uri": "https://localhost:8080/"
        },
        "id": "76sZwM2uxWrR",
        "outputId": "f90cd6d6-8523-4f6c-b3df-6e423baaf8b5"
      },
      "execution_count": null,
      "outputs": [
        {
          "output_type": "execute_result",
          "data": {
            "text/plain": [
              "15"
            ]
          },
          "metadata": {},
          "execution_count": 27
        }
      ]
    },
    {
      "cell_type": "code",
      "source": [
        "a = list(range(1, 11))\n",
        "res = reduce(lambda x, y: x + y, a)\n",
        "print(res)"
      ],
      "metadata": {
        "id": "smXg5YyJyXt4"
      },
      "execution_count": null,
      "outputs": []
    },
    {
      "cell_type": "code",
      "source": [
        "a = [1, 2, 3, 4, 5, 6, 7, 8, 9, 10]\n",
        "b = a[::-1]\n",
        "reduce(lambda x, y: x+y, b)"
      ],
      "metadata": {
        "colab": {
          "base_uri": "https://localhost:8080/"
        },
        "id": "FeywZXFHy9js",
        "outputId": "26b9438f-5c3b-411b-d9c6-5294cfd7f092"
      },
      "execution_count": null,
      "outputs": [
        {
          "output_type": "execute_result",
          "data": {
            "text/plain": [
              "55"
            ]
          },
          "metadata": {},
          "execution_count": 28
        }
      ]
    },
    {
      "cell_type": "code",
      "source": [
        "a = [1, 2, 3]\n",
        "b = ['a', 'b']\n",
        "list(zip(a, b))"
      ],
      "metadata": {
        "colab": {
          "base_uri": "https://localhost:8080/"
        },
        "id": "EkSNJ3-dzeEj",
        "outputId": "7ff475de-b10a-4f43-9b3b-b5d57d5d9181"
      },
      "execution_count": null,
      "outputs": [
        {
          "output_type": "execute_result",
          "data": {
            "text/plain": [
              "[(1, 'a'), (2, 'b')]"
            ]
          },
          "metadata": {},
          "execution_count": 29
        }
      ]
    },
    {
      "cell_type": "code",
      "source": [
        "## args, kwargs\n",
        "\n",
        "\n",
        "def foo(x, y):\n",
        "  return x+y\n",
        "\n",
        "foo(10, 20)"
      ],
      "metadata": {
        "id": "2Dc-tCcp0Sjl"
      },
      "execution_count": null,
      "outputs": []
    },
    {
      "cell_type": "code",
      "source": [
        "def foo(x, y, *args):\n",
        "  result = x+y\n",
        "  if args:\n",
        "    result += sum(args)\n",
        "  return result\n",
        "\n",
        "foo(10, 20, 30, 40, 50, 60)"
      ],
      "metadata": {
        "colab": {
          "base_uri": "https://localhost:8080/"
        },
        "id": "Va9jYUMo0tNy",
        "outputId": "4a48f935-a325-4b11-cd74-78c2b6065eb0"
      },
      "execution_count": null,
      "outputs": [
        {
          "output_type": "execute_result",
          "data": {
            "text/plain": [
              "210"
            ]
          },
          "metadata": {},
          "execution_count": 31
        }
      ]
    },
    {
      "cell_type": "code",
      "source": [
        "def foo(*args):\n",
        "  result = 0\n",
        "  if args:\n",
        "    result += sum(args)\n",
        "  return result\n",
        "\n",
        "foo(10, 20, 30, 40, 50, 60)"
      ],
      "metadata": {
        "colab": {
          "base_uri": "https://localhost:8080/"
        },
        "id": "aani8mjR1Q2x",
        "outputId": "f1f5822e-f8dd-4862-ea59-1d18211ab3bf"
      },
      "execution_count": null,
      "outputs": [
        {
          "output_type": "execute_result",
          "data": {
            "text/plain": [
              "210"
            ]
          },
          "metadata": {},
          "execution_count": 32
        }
      ]
    },
    {
      "cell_type": "code",
      "source": [
        "def create_person(name, age, gender):\n",
        "  Person = {\n",
        "      'name': name,\n",
        "      'age': age,\n",
        "      'gender': gender\n",
        "  }\n",
        "  return Person\n",
        "\n",
        "create_person(name='Rohit', gender='Male', age=28)"
      ],
      "metadata": {
        "colab": {
          "base_uri": "https://localhost:8080/"
        },
        "id": "r0rc2owG1gCx",
        "outputId": "65f7dbfc-7c9b-4201-bbbc-4d10b36a58d7"
      },
      "execution_count": null,
      "outputs": [
        {
          "output_type": "execute_result",
          "data": {
            "text/plain": [
              "{'name': 'Rohit', 'age': 28, 'gender': 'Male'}"
            ]
          },
          "metadata": {},
          "execution_count": 33
        }
      ]
    },
    {
      "cell_type": "code",
      "source": [
        "def create_person(name, age, gender, **extra_info):\n",
        "  Person = {\n",
        "      'name': name,\n",
        "      'age': age,\n",
        "      'gender': gender\n",
        "  }\n",
        "  if extra_info:\n",
        "    Person.update(extra_info)\n",
        "  return Person\n",
        "\n",
        "create_person(name='Rohit', gender='Male', age=28, hobby='Cricket', Color='Blue')"
      ],
      "metadata": {
        "colab": {
          "base_uri": "https://localhost:8080/"
        },
        "id": "-Pfx7qFq12i-",
        "outputId": "b7fd2cc2-371e-4f95-eeac-a2b8c920457e"
      },
      "execution_count": null,
      "outputs": [
        {
          "output_type": "execute_result",
          "data": {
            "text/plain": [
              "{'name': 'Rohit',\n",
              " 'age': 28,\n",
              " 'gender': 'Male',\n",
              " 'hobby': 'Cricket',\n",
              " 'Color': 'Blue'}"
            ]
          },
          "metadata": {},
          "execution_count": 34
        }
      ]
    },
    {
      "cell_type": "code",
      "source": [
        "def sample_func(x, y, *args, **kwargs):\n",
        "    return x, y, args, kwargs\n",
        "\n",
        "sample_func(1, 2, 3, 4, a=5, b=6)"
      ],
      "metadata": {
        "colab": {
          "base_uri": "https://localhost:8080/"
        },
        "id": "agQcXKdq2pkl",
        "outputId": "e2537360-bc07-473f-ebf6-d654438cd738"
      },
      "execution_count": null,
      "outputs": [
        {
          "output_type": "execute_result",
          "data": {
            "text/plain": [
              "(1, 2, (3, 4), {'a': 5, 'b': 6})"
            ]
          },
          "metadata": {},
          "execution_count": 35
        }
      ]
    },
    {
      "cell_type": "code",
      "source": [
        "list1 = {1, 2, 33, 2}\n",
        "\n",
        "print(reduce(lambda x, y: x+y, list1))"
      ],
      "metadata": {
        "colab": {
          "base_uri": "https://localhost:8080/"
        },
        "id": "rlltVlJ03uVr",
        "outputId": "18b81e68-71a1-49b8-c42b-a0db871670b3"
      },
      "execution_count": null,
      "outputs": [
        {
          "output_type": "stream",
          "name": "stdout",
          "text": [
            "36\n"
          ]
        }
      ]
    },
    {
      "cell_type": "code",
      "source": [],
      "metadata": {
        "id": "QG3Ukaz07yIJ"
      },
      "execution_count": null,
      "outputs": []
    }
  ]
}