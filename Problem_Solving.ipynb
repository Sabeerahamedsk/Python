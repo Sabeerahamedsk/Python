{
  "nbformat": 4,
  "nbformat_minor": 0,
  "metadata": {
    "colab": {
      "provenance": []
    },
    "kernelspec": {
      "name": "python3",
      "display_name": "Python 3"
    },
    "language_info": {
      "name": "python"
    }
  },
  "cells": [
    {
      "cell_type": "markdown",
      "source": [
        "Agenda\n",
        "- Problem Solving"
      ],
      "metadata": {
        "id": "cPH5A8LSHByH"
      }
    },
    {
      "cell_type": "code",
      "source": [
        "n = int(input())\n",
        "i = 0\n",
        "decimal = 0\n",
        "\n",
        "\n",
        "while n > 0:\n",
        "  rem = n % 10\n",
        "  decimal += (rem * (2**i))\n",
        "  n //=10\n",
        "  i +=1\n",
        "print(decimal)"
      ],
      "metadata": {
        "colab": {
          "base_uri": "https://localhost:8080/"
        },
        "id": "RClL1RbhMNtP",
        "outputId": "01efec0c-34ac-4e14-a75d-871f01fd198d"
      },
      "execution_count": null,
      "outputs": [
        {
          "output_type": "stream",
          "name": "stdout",
          "text": [
            "1010\n",
            "10\n"
          ]
        }
      ]
    },
    {
      "cell_type": "code",
      "source": [
        "## Count number of 1's in binary number\n",
        "n = int(input())\n",
        "count = 0\n",
        "while n > 0:\n",
        "  rem = n % 10\n",
        "  if rem ==1:\n",
        "    count +=1\n",
        "  n //=10\n",
        "print(count)"
      ],
      "metadata": {
        "id": "Doja1VOvOFFz"
      },
      "execution_count": null,
      "outputs": []
    },
    {
      "cell_type": "code",
      "source": [],
      "metadata": {
        "id": "t0ZneFu4QqI1"
      },
      "execution_count": null,
      "outputs": []
    },
    {
      "cell_type": "code",
      "source": [
        "# Sum of all digits of the given number\n",
        "\n",
        "n = int(input())\n",
        "total = 0\n",
        "while n > 0:\n",
        "  rem = n % 10\n",
        "  total += rem\n",
        "  n //=10\n",
        "print(total)"
      ],
      "metadata": {
        "colab": {
          "base_uri": "https://localhost:8080/"
        },
        "id": "MgM6s-OLQP8X",
        "outputId": "718d6112-88fd-437f-897d-8ff9bb23b014"
      },
      "execution_count": null,
      "outputs": [
        {
          "output_type": "stream",
          "name": "stdout",
          "text": [
            "1010\n",
            "2\n"
          ]
        }
      ]
    },
    {
      "cell_type": "code",
      "source": [
        "## Count number of digits in a given number\n",
        "n = int(input())\n",
        "count =0\n",
        "if n == 0:\n",
        "  count =1\n",
        "while n > 0:\n",
        "  rem = n % 10\n",
        "  count += 1\n",
        "  n //=10\n",
        "print(count)"
      ],
      "metadata": {
        "colab": {
          "base_uri": "https://localhost:8080/"
        },
        "id": "fBI5miIyQqma",
        "outputId": "abbd6251-58f7-419d-a92e-bdd066e246eb"
      },
      "execution_count": null,
      "outputs": [
        {
          "output_type": "stream",
          "name": "stdout",
          "text": [
            "0\n",
            "1\n"
          ]
        }
      ]
    },
    {
      "cell_type": "code",
      "source": [
        "# Armstrong number\n",
        "\n",
        "num = int(input())\n",
        "n = num\n",
        "total = 0\n",
        "\n",
        "while n > 0:\n",
        "  rem = n % 10\n",
        "  total += (rem **3)\n",
        "  n //=10\n",
        "\n",
        "if total == num:\n",
        "  print('Armstrong number')\n",
        "else:\n",
        "  print('Not a armstrong number')"
      ],
      "metadata": {
        "colab": {
          "base_uri": "https://localhost:8080/"
        },
        "id": "H_EJsk6TRkfD",
        "outputId": "d07a2c2b-8cbe-493b-d620-5cc876130312"
      },
      "execution_count": null,
      "outputs": [
        {
          "output_type": "stream",
          "name": "stdout",
          "text": [
            "111\n",
            "Not a armstrong number\n"
          ]
        }
      ]
    },
    {
      "cell_type": "code",
      "source": [
        "A = [1, 2, 4, 5]\n",
        "B = 3\n",
        "def foo(A, B):\n",
        "  for i in range(len(A)):\n",
        "    if A[i]>=B:\n",
        "      break\n",
        "  ceil=A[i]\n",
        "  if ceil==B:\n",
        "    floor=ceil\n",
        "  else:\n",
        "    floor=A[i-1]\n",
        "  return [ceil, floor]\n",
        "foo(A, B)"
      ],
      "metadata": {
        "colab": {
          "base_uri": "https://localhost:8080/"
        },
        "id": "zGGbI8RYcLtM",
        "outputId": "54e9810e-48f1-4a11-9609-86d924286c74"
      },
      "execution_count": null,
      "outputs": [
        {
          "output_type": "execute_result",
          "data": {
            "text/plain": [
              "[4, 2]"
            ]
          },
          "metadata": {},
          "execution_count": 11
        }
      ]
    }
  ]
}