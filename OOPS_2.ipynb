{
  "nbformat": 4,
  "nbformat_minor": 0,
  "metadata": {
    "colab": {
      "provenance": []
    },
    "kernelspec": {
      "name": "python3",
      "display_name": "Python 3"
    },
    "language_info": {
      "name": "python"
    }
  },
  "cells": [
    {
      "cell_type": "markdown",
      "source": [
        "## Agenda\n",
        "\n",
        "- Dunder / Magic Methods\n",
        "- Encapsulation\n",
        "- Access Modifiers in Python\n",
        "- Getters and Setters in python\n",
        "- Inheritance\n",
        "- Method Overriding\n",
        "- Method Resolution order"
      ],
      "metadata": {
        "id": "UXSzxjNMZLyL"
      }
    },
    {
      "cell_type": "code",
      "source": [
        "class Car:\n",
        "  wheels = 4\n",
        "\n",
        "  def func(satish, a):\n",
        "    satish.wheels = a\n",
        "\n",
        "c = Car()\n",
        "c.func(10)\n",
        "print(c.wheels)\n",
        "\n",
        "d = Car()\n",
        "d.func(20)\n",
        "print(d.wheels)\n",
        "\n",
        "Car().wheels"
      ],
      "metadata": {
        "colab": {
          "base_uri": "https://localhost:8080/"
        },
        "id": "vLW8S74JZGMt",
        "outputId": "184ad01a-285f-4e3a-802d-49c5b5fbbfa1"
      },
      "execution_count": null,
      "outputs": [
        {
          "output_type": "stream",
          "name": "stdout",
          "text": [
            "10\n",
            "20\n"
          ]
        },
        {
          "output_type": "execute_result",
          "data": {
            "text/plain": [
              "4"
            ]
          },
          "metadata": {},
          "execution_count": 5
        }
      ]
    },
    {
      "cell_type": "code",
      "source": [
        "class Employee:\n",
        "\n",
        "  def __init__(self, name, age, salary=1000000):\n",
        "    self.name = name\n",
        "    self.age = age\n",
        "    self.salary = salary\n",
        "\n",
        "\n",
        "  def __str__(self):\n",
        "    return f\"{self.name} -> {self.age}\"\n",
        "\n",
        "\n",
        "  def __add__(self, other1, other2):\n",
        "    return self.name + other.name + str(self.age)\n",
        "\n",
        "\n",
        "  def __lt__(self, other):\n",
        "    return self.salary < other.salary\n",
        "\n",
        "\n",
        "e1 = Employee('satish', 28, 10000)\n",
        "e2 = Employee('pavan', 30, 20000)\n",
        "print(e1)\n",
        "print(e2)\n",
        "print(e1+e2)"
      ],
      "metadata": {
        "colab": {
          "base_uri": "https://localhost:8080/"
        },
        "id": "qlNV-D6cwvDV",
        "outputId": "2286083f-b49c-444c-9d37-f7736ff89026"
      },
      "execution_count": null,
      "outputs": [
        {
          "output_type": "stream",
          "name": "stdout",
          "text": [
            "satish -> 28\n",
            "pavan -> 30\n"
          ]
        }
      ]
    },
    {
      "cell_type": "code",
      "source": [],
      "metadata": {
        "id": "Zxx04wuD2BLS"
      },
      "execution_count": null,
      "outputs": []
    },
    {
      "cell_type": "code",
      "source": [
        "class A:\n",
        "  def __init__(self, a):\n",
        "    self.a = a\n",
        "  def __add__(self, b):\n",
        "    if isinstance(b, int):\n",
        "      return A(self.a + b)\n",
        "    return A(self.a + b.a)\n",
        "  def __str__(self):\n",
        "    return f\"{self.a}\"\n",
        "\n",
        "\n",
        "one = A(1)\n",
        "two = A(2)\n",
        "\n",
        "print(one + two + 100)"
      ],
      "metadata": {
        "colab": {
          "base_uri": "https://localhost:8080/"
        },
        "id": "X_B-Mmk108qJ",
        "outputId": "4050943d-64d8-4c47-be17-e6c88d81557a"
      },
      "execution_count": null,
      "outputs": [
        {
          "output_type": "stream",
          "name": "stdout",
          "text": [
            "103\n"
          ]
        }
      ]
    },
    {
      "cell_type": "code",
      "source": [
        "isinstance('satish', str)"
      ],
      "metadata": {
        "colab": {
          "base_uri": "https://localhost:8080/"
        },
        "id": "GzRqtuPq2BpE",
        "outputId": "b49861d4-61a3-4d4a-e4ef-559b25098c3c"
      },
      "execution_count": null,
      "outputs": [
        {
          "output_type": "execute_result",
          "data": {
            "text/plain": [
              "True"
            ]
          },
          "metadata": {},
          "execution_count": 26
        }
      ]
    },
    {
      "cell_type": "code",
      "source": [
        "class Car:\n",
        "  def __init__(self, model, color, price):\n",
        "    self.model = model\n",
        "    self.color = color\n",
        "    self.price = price\n",
        "\n",
        "  def drive(self):\n",
        "    print('zoom zoom')\n",
        "\n",
        "\n",
        "c = Car('sedan', 'black', 1000000)\n",
        "c.price = 'xyz'\n",
        "\n",
        "c2 = Car('sedan', 'white', 1000989)\n",
        "print(c.price)"
      ],
      "metadata": {
        "colab": {
          "base_uri": "https://localhost:8080/"
        },
        "id": "uYFim9Zt26p1",
        "outputId": "0d4e24e0-a475-4da7-abbc-d6e59c276774"
      },
      "execution_count": null,
      "outputs": [
        {
          "output_type": "stream",
          "name": "stdout",
          "text": [
            "xyz\n"
          ]
        }
      ]
    },
    {
      "cell_type": "code",
      "source": [
        "class Employee:\n",
        "\n",
        "  def __init__(self, name, age, salary=1000000):\n",
        "    self.name = name\n",
        "    self.__age = age\n",
        "    self.__salary = salary\n",
        "\n",
        "\n",
        "  def get_salary(self):\n",
        "    return self.__salary\n",
        "\n",
        "\n",
        "  def set_salary(self, salary):\n",
        "    self.__salary = salary\n",
        "\n",
        "e1 = Employee('satish', 28, 10000)\n",
        "\n",
        "# e1.__salary\n",
        "print(e1.get_salary())\n",
        "e1.set_salary(20000)\n",
        "print(e1.get_salary())\n"
      ],
      "metadata": {
        "colab": {
          "base_uri": "https://localhost:8080/"
        },
        "id": "HczC56NM5-JA",
        "outputId": "86e54863-3c3a-4d55-fc48-133c03d993d5"
      },
      "execution_count": null,
      "outputs": [
        {
          "output_type": "stream",
          "name": "stdout",
          "text": [
            "10000\n",
            "20000\n"
          ]
        }
      ]
    },
    {
      "cell_type": "code",
      "source": [
        "class Vehicle:\n",
        "  wheels = 4\n",
        "\n",
        "  def vehicle_info(self):\n",
        "    print('Inside the vehicle class')\n",
        "\n",
        "\n",
        "\n",
        "class Car(Vehicle):\n",
        "\n",
        "  def car_info(self):\n",
        "    print('insider the car class')\n",
        "\n",
        "\n",
        "c = Car()\n",
        "c.vehicle_info()"
      ],
      "metadata": {
        "colab": {
          "base_uri": "https://localhost:8080/"
        },
        "id": "nKAqXe0B_BDt",
        "outputId": "01343dfc-556f-4ecc-eff4-5118a18df16e"
      },
      "execution_count": null,
      "outputs": [
        {
          "output_type": "stream",
          "name": "stdout",
          "text": [
            "Inside the vehicle class\n"
          ]
        }
      ]
    },
    {
      "cell_type": "code",
      "source": [
        "## Multiple Inheritance\n",
        "\n",
        "\n",
        "class Person:\n",
        "  def person_info(self, name, age):\n",
        "    print('inside the person class')\n",
        "    print(name, age)\n",
        "\n",
        "\n",
        "class Company:\n",
        "  def company_info(self, name, location):\n",
        "    print('Inside the company class')\n",
        "    print(name, location)\n",
        "\n",
        "\n",
        "class Employee(Person, Company):\n",
        "  pass\n",
        "\n",
        "e = Employee()\n",
        "\n",
        "e.company_info('XYZ', 'Hyderbad')\n",
        "e.person_info('satish', 28)"
      ],
      "metadata": {
        "colab": {
          "base_uri": "https://localhost:8080/"
        },
        "id": "UmEpBpb1Abuk",
        "outputId": "7b84f36a-b090-4469-d7f1-368a5ac00a6a"
      },
      "execution_count": null,
      "outputs": [
        {
          "output_type": "stream",
          "name": "stdout",
          "text": [
            "Inside the company class\n",
            "XYZ Hyderbad\n",
            "inside the person class\n",
            "satish 28\n"
          ]
        }
      ]
    },
    {
      "cell_type": "code",
      "source": [
        "## Multi Level Inheritance\n",
        "\n",
        "class Vehicle:\n",
        "  def vehicle_info(self):\n",
        "    print('Insider the vehicle class')\n",
        "\n",
        "\n",
        "class Car(Vehicle):\n",
        "  def car_info(self):\n",
        "    print('inside the car class')\n",
        "\n",
        "class SportsCar(Car):\n",
        "  def sportscar_info(self):\n",
        "    print('insider the sports car')\n",
        "\n",
        "\n",
        "s = SportsCar()\n",
        "\n",
        "s.vehicle_info()\n",
        "\n",
        "s.car_info()"
      ],
      "metadata": {
        "colab": {
          "base_uri": "https://localhost:8080/"
        },
        "id": "w-40q1AbBw5N",
        "outputId": "da9ed54b-49a9-4dbe-de2c-652fdbb1ff2c"
      },
      "execution_count": null,
      "outputs": [
        {
          "output_type": "stream",
          "name": "stdout",
          "text": [
            "Insider the vehicle class\n",
            "inside the car class\n"
          ]
        }
      ]
    },
    {
      "cell_type": "code",
      "source": [
        "# Hierarchial Inheritance\n",
        "\n",
        "class Vehicle:\n",
        "  def vehicle_info(self):\n",
        "    print(\"Inside vehicle\")\n",
        "\n",
        "class Car(Vehicle):\n",
        "\n",
        "  def car_info(self):\n",
        "    print('Car infon')\n",
        "\n",
        "class Truck(Vehicle):\n",
        "  def truck_info(self):\n",
        "    print('truck info')\n",
        "\n",
        "\n",
        "t = Truck()\n",
        "t.vehicle_info()"
      ],
      "metadata": {
        "colab": {
          "base_uri": "https://localhost:8080/"
        },
        "id": "0LHZOqR0C4Pt",
        "outputId": "d9ebc2b9-4f76-44ce-8083-2f692d829959"
      },
      "execution_count": null,
      "outputs": [
        {
          "output_type": "stream",
          "name": "stdout",
          "text": [
            "Inside vehicle\n"
          ]
        }
      ]
    },
    {
      "cell_type": "code",
      "source": [
        "#Hybrid Inheritance"
      ],
      "metadata": {
        "id": "kcCsPGCUDdqG"
      },
      "execution_count": null,
      "outputs": []
    },
    {
      "cell_type": "code",
      "source": [
        "class Vehicle:\n",
        "  def max_speed(self):\n",
        "    print('max speed is 100 km/hr')\n",
        "\n",
        "class Car(Vehicle):\n",
        "  def max_speed(self):\n",
        "    print('max speed is 200 km/hr')\n",
        "\n",
        "c = Car()\n",
        "c.max_speed()"
      ],
      "metadata": {
        "colab": {
          "base_uri": "https://localhost:8080/"
        },
        "id": "rMB3A4bDD2ct",
        "outputId": "d2e2d594-bc92-4802-d3b5-d533095dd086"
      },
      "execution_count": null,
      "outputs": [
        {
          "output_type": "stream",
          "name": "stdout",
          "text": [
            "max speed is 200 km/hr\n"
          ]
        }
      ]
    },
    {
      "cell_type": "code",
      "source": [
        "class A:\n",
        "  def process(self):\n",
        "    print('In Class A')\n",
        "\n",
        "class B(A):\n",
        "  def process(self):\n",
        "    print('In class B')\n",
        "\n",
        "class C(B, A):\n",
        "  def process(self):\n",
        "    print('In Class C')\n",
        "\n",
        "\n",
        "obj = C()\n",
        "obj.process()"
      ],
      "metadata": {
        "colab": {
          "base_uri": "https://localhost:8080/"
        },
        "id": "uEAmpteWFAtI",
        "outputId": "f15c40ed-2631-4154-ba3c-5eb823653ffa"
      },
      "execution_count": null,
      "outputs": [
        {
          "output_type": "stream",
          "name": "stdout",
          "text": [
            "In Class C\n"
          ]
        }
      ]
    },
    {
      "cell_type": "code",
      "source": [
        "C.mro()"
      ],
      "metadata": {
        "colab": {
          "base_uri": "https://localhost:8080/"
        },
        "id": "HJ2kgY0MFWYR",
        "outputId": "2c508ed9-b39f-4427-90ee-f10219361843"
      },
      "execution_count": null,
      "outputs": [
        {
          "output_type": "execute_result",
          "data": {
            "text/plain": [
              "[__main__.C, __main__.B, __main__.A, object]"
            ]
          },
          "metadata": {},
          "execution_count": 55
        }
      ]
    },
    {
      "cell_type": "code",
      "source": [
        "class A:\n",
        "  pass\n",
        "class B:\n",
        "  pass\n",
        "class C(A, B):\n",
        "  pass\n",
        "class D:\n",
        "  pass\n",
        "class E(C, D):\n",
        "  pass\n",
        "\n",
        "E.mro()"
      ],
      "metadata": {
        "colab": {
          "base_uri": "https://localhost:8080/"
        },
        "id": "0v9-IApwF9Xi",
        "outputId": "33539ba6-1cb5-473a-dd58-cb6bde2b7083"
      },
      "execution_count": null,
      "outputs": [
        {
          "output_type": "execute_result",
          "data": {
            "text/plain": [
              "[__main__.E, __main__.C, __main__.A, __main__.B, __main__.D, object]"
            ]
          },
          "metadata": {},
          "execution_count": 56
        }
      ]
    },
    {
      "cell_type": "code",
      "source": [
        "class A:\n",
        "\n",
        "  def __init__(self, a, b, c):\n",
        "    self.a = a\n",
        "    self.b = b\n",
        "    self.c = c\n",
        "\n",
        "class B(A):\n",
        "\n",
        "  def __init__(self, a, b, c,d):\n",
        "    super().__init__(a, b, c)\n",
        "    self.d = d\n",
        "\n",
        "\n",
        "b = B(10, 20, 30, 40)\n",
        "b.b"
      ],
      "metadata": {
        "id": "Cezn9wYuHryL",
        "colab": {
          "base_uri": "https://localhost:8080/"
        },
        "outputId": "e900e89f-f323-4b6f-c7fd-dffd24ba97f7"
      },
      "execution_count": null,
      "outputs": [
        {
          "output_type": "execute_result",
          "data": {
            "text/plain": [
              "20"
            ]
          },
          "metadata": {},
          "execution_count": 67
        }
      ]
    },
    {
      "cell_type": "code",
      "source": [
        "class Animal:\n",
        "    def __init__(self, species, age, name):\n",
        "        # write the method\n",
        "\n",
        "        self.species = species\n",
        "        self.age = age\n",
        "        self.name = name\n",
        "\n",
        "    def __str__(self):\n",
        "        return f\"Name: {self.name}, Species: {self.species}, Age: {self.age}\"\n",
        "\n",
        "# Compelte the class\n",
        "class Bird(Animal):\n",
        "    def __init__(self, species, age, name, can_fly):\n",
        "        # complete the method\n",
        "        super().__init__(species, age, name)\n",
        "        self.can_fly = can_fly\n",
        "\n",
        "    def __str__(self):\n",
        "        # complete the method\n",
        "        fly_data = 'Yes' if self.can_fly else 'No'\n",
        "        return f\"Name: {self.name}, Species: {self.species}, Age: {self.age}, Can Fly: {fly_data}\"\n",
        "\n",
        "class Zoo:\n",
        "    def __init__(self):\n",
        "        # complete the method\n",
        "        self.animals = []\n",
        "\n",
        "    def add_animal(self, animal):\n",
        "        # complete the method\n",
        "        self.animals.append(animal)\n",
        "\n",
        "    def list_animals(self):\n",
        "        # complete the method\n",
        "        for animal in self.animals:\n",
        "            print(animal)"
      ],
      "metadata": {
        "id": "81gRjE99LwCJ"
      },
      "execution_count": null,
      "outputs": []
    },
    {
      "cell_type": "code",
      "source": [
        "class fruits:\n",
        "  def __init__(self, price):\n",
        "    self.price = price\n",
        "obj=fruits(50)\n",
        "obj.quantity=10\n",
        "obj.bags=2\n",
        "print(obj.quantity+len(obj.__dict__))"
      ],
      "metadata": {
        "colab": {
          "base_uri": "https://localhost:8080/"
        },
        "id": "ttBwdek0Mned",
        "outputId": "1ab798bb-38a4-4971-8a56-343e804d1e8c"
      },
      "execution_count": null,
      "outputs": [
        {
          "output_type": "stream",
          "name": "stdout",
          "text": [
            "13\n"
          ]
        }
      ]
    },
    {
      "cell_type": "code",
      "source": [
        "len(obj.__dict__)"
      ],
      "metadata": {
        "colab": {
          "base_uri": "https://localhost:8080/"
        },
        "id": "CfQOcYdAM_mP",
        "outputId": "a028e7ba-72aa-4b85-940f-db1408c49ce4"
      },
      "execution_count": null,
      "outputs": [
        {
          "output_type": "execute_result",
          "data": {
            "text/plain": [
              "3"
            ]
          },
          "metadata": {},
          "execution_count": 71
        }
      ]
    }
  ]
}