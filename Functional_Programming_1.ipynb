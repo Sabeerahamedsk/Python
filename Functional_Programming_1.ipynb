{
  "nbformat": 4,
  "nbformat_minor": 0,
  "metadata": {
    "colab": {
      "provenance": []
    },
    "kernelspec": {
      "name": "python3",
      "display_name": "Python 3"
    },
    "language_info": {
      "name": "python"
    }
  },
  "cells": [
    {
      "cell_type": "markdown",
      "source": [
        "## Agenda\n",
        "\n",
        "- Functional Programming -1\n",
        "- Lambda Function\n",
        "- Examples\n",
        "- Higher Order Functions\n",
        "- Decorators"
      ],
      "metadata": {
        "id": "_vMwOgTkCfuX"
      }
    },
    {
      "cell_type": "code",
      "source": [
        "def func(n):\n",
        "  if n>0:\n",
        "    return True\n",
        "  else:\n",
        "    return False\n",
        "func(-10)"
      ],
      "metadata": {
        "colab": {
          "base_uri": "https://localhost:8080/"
        },
        "id": "_nddEMJ_C06S",
        "outputId": "85945128-7976-402d-f475-8f4c52fdc404"
      },
      "execution_count": null,
      "outputs": [
        {
          "output_type": "execute_result",
          "data": {
            "text/plain": [
              "False"
            ]
          },
          "metadata": {},
          "execution_count": 2
        }
      ]
    },
    {
      "cell_type": "code",
      "source": [
        "def func(n):\n",
        "  return True if n>0 else False\n",
        "\n",
        "func(100)"
      ],
      "metadata": {
        "colab": {
          "base_uri": "https://localhost:8080/"
        },
        "id": "gtUY9hiQNgIB",
        "outputId": "322ba00d-e844-44ce-940f-3515ab8461f2"
      },
      "execution_count": null,
      "outputs": [
        {
          "output_type": "execute_result",
          "data": {
            "text/plain": [
              "True"
            ]
          },
          "metadata": {},
          "execution_count": 4
        }
      ]
    },
    {
      "cell_type": "code",
      "source": [
        "type(func)"
      ],
      "metadata": {
        "colab": {
          "base_uri": "https://localhost:8080/"
        },
        "id": "lst7NpamQKmL",
        "outputId": "3f48b9b4-5236-4231-8bf0-ba6492db23fd"
      },
      "execution_count": null,
      "outputs": [
        {
          "output_type": "execute_result",
          "data": {
            "text/plain": [
              "function"
            ]
          },
          "metadata": {},
          "execution_count": 5
        }
      ]
    },
    {
      "cell_type": "code",
      "source": [
        "square = lambda x: x**2\n",
        "square(10)"
      ],
      "metadata": {
        "colab": {
          "base_uri": "https://localhost:8080/"
        },
        "id": "QM_bbeb-Px1Q",
        "outputId": "f9281d09-2479-483f-d5ce-9e83e29ebc0f"
      },
      "execution_count": null,
      "outputs": [
        {
          "output_type": "execute_result",
          "data": {
            "text/plain": [
              "100"
            ]
          },
          "metadata": {},
          "execution_count": 7
        }
      ]
    },
    {
      "cell_type": "code",
      "source": [
        "(lambda x: x**2)(10)"
      ],
      "metadata": {
        "colab": {
          "base_uri": "https://localhost:8080/"
        },
        "id": "-P7Qrm_tRC4b",
        "outputId": "6aed4991-a747-43f1-9e0f-c35dbb2f94a2"
      },
      "execution_count": null,
      "outputs": [
        {
          "output_type": "execute_result",
          "data": {
            "text/plain": [
              "100"
            ]
          },
          "metadata": {},
          "execution_count": 8
        }
      ]
    },
    {
      "cell_type": "code",
      "source": [
        "(lambda x, y: x+y)(3, 5)"
      ],
      "metadata": {
        "colab": {
          "base_uri": "https://localhost:8080/"
        },
        "id": "nRY4OE5uR1if",
        "outputId": "b8833e14-1882-48a0-bd62-1848b2734246"
      },
      "execution_count": null,
      "outputs": [
        {
          "output_type": "execute_result",
          "data": {
            "text/plain": [
              "8"
            ]
          },
          "metadata": {},
          "execution_count": 9
        }
      ]
    },
    {
      "cell_type": "code",
      "source": [
        "func = lambda x: return x*2\n",
        "print(func(2))"
      ],
      "metadata": {
        "colab": {
          "base_uri": "https://localhost:8080/",
          "height": 106
        },
        "id": "aZBO1LSHSAsU",
        "outputId": "4c7df5f1-4974-44a2-d413-44638ee4ccdc"
      },
      "execution_count": null,
      "outputs": [
        {
          "output_type": "error",
          "ename": "SyntaxError",
          "evalue": "invalid syntax (<ipython-input-10-3b53af0118c9>, line 1)",
          "traceback": [
            "\u001b[0;36m  File \u001b[0;32m\"<ipython-input-10-3b53af0118c9>\"\u001b[0;36m, line \u001b[0;32m1\u001b[0m\n\u001b[0;31m    func = lambda x: return x*2\u001b[0m\n\u001b[0m                     ^\u001b[0m\n\u001b[0;31mSyntaxError\u001b[0m\u001b[0;31m:\u001b[0m invalid syntax\n"
          ]
        }
      ]
    },
    {
      "cell_type": "code",
      "source": [
        "(lambda num: (num-10)*2/4)(20)"
      ],
      "metadata": {
        "colab": {
          "base_uri": "https://localhost:8080/"
        },
        "id": "m8pJ4cRESlxU",
        "outputId": "14a42f16-cc08-4626-f463-81b9b680dcac"
      },
      "execution_count": null,
      "outputs": [
        {
          "output_type": "execute_result",
          "data": {
            "text/plain": [
              "5.0"
            ]
          },
          "metadata": {},
          "execution_count": 11
        }
      ]
    },
    {
      "cell_type": "code",
      "source": [
        "l = [1, 4, 3, 2, 5]\n",
        "x = sorted(l)\n",
        "print(x)"
      ],
      "metadata": {
        "colab": {
          "base_uri": "https://localhost:8080/"
        },
        "id": "4dXuvlJJTh7w",
        "outputId": "4c1fae04-7d7b-40aa-95c1-40541cba641e"
      },
      "execution_count": null,
      "outputs": [
        {
          "output_type": "stream",
          "name": "stdout",
          "text": [
            "[1, 2, 3, 4, 5]\n"
          ]
        }
      ]
    },
    {
      "cell_type": "code",
      "source": [
        "coordinates = [(1, -1), (-1, 2), (3, 5), (5, 3), (7,7), (2, 1)]\n",
        "x = sorted(coordinates)\n",
        "print(x)"
      ],
      "metadata": {
        "colab": {
          "base_uri": "https://localhost:8080/"
        },
        "id": "-UJWQZ-dUSFX",
        "outputId": "4b2217d6-41ee-4e68-da14-9e4dbd970a8e"
      },
      "execution_count": null,
      "outputs": [
        {
          "output_type": "stream",
          "name": "stdout",
          "text": [
            "[(-1, 2), (1, -1), (2, 1), (3, 5), (5, 3), (7, 7)]\n"
          ]
        }
      ]
    },
    {
      "cell_type": "code",
      "source": [
        "help(sorted)"
      ],
      "metadata": {
        "colab": {
          "base_uri": "https://localhost:8080/"
        },
        "id": "QpSqDgz7VGnY",
        "outputId": "d1ed831f-5bb5-4709-dc6a-1824a1ea6333"
      },
      "execution_count": null,
      "outputs": [
        {
          "output_type": "stream",
          "name": "stdout",
          "text": [
            "Help on built-in function sorted in module builtins:\n",
            "\n",
            "sorted(iterable, /, *, key=None, reverse=False)\n",
            "    Return a new list containing all items from the iterable in ascending order.\n",
            "    \n",
            "    A custom key function can be supplied to customize the sort order, and the\n",
            "    reverse flag can be set to request the result in descending order.\n",
            "\n"
          ]
        }
      ]
    },
    {
      "cell_type": "code",
      "source": [
        "coordinates = [(1, -1), (-1, 2), (3, 5), (5, 3), (7,7), (2, 1)]\n",
        "\n",
        "def get_y(tup):\n",
        "  return tup[1]\n",
        "\n",
        "sorted(coordinates, key=get_y)"
      ],
      "metadata": {
        "colab": {
          "base_uri": "https://localhost:8080/"
        },
        "id": "fn2L1_q3VtDO",
        "outputId": "e49bac29-b2e6-49db-f770-95fd850b364d"
      },
      "execution_count": null,
      "outputs": [
        {
          "output_type": "execute_result",
          "data": {
            "text/plain": [
              "[(1, -1), (2, 1), (-1, 2), (5, 3), (3, 5), (7, 7)]"
            ]
          },
          "metadata": {},
          "execution_count": 19
        }
      ]
    },
    {
      "cell_type": "code",
      "source": [
        "for tup in coordinates:\n",
        "  print(get_y(tup))"
      ],
      "metadata": {
        "colab": {
          "base_uri": "https://localhost:8080/"
        },
        "id": "YpO6lG3VWkyp",
        "outputId": "0b13377f-58dd-4aa7-d22b-737f58fd966c"
      },
      "execution_count": null,
      "outputs": [
        {
          "output_type": "stream",
          "name": "stdout",
          "text": [
            "-1\n",
            "2\n",
            "5\n",
            "3\n",
            "7\n",
            "1\n"
          ]
        }
      ]
    },
    {
      "cell_type": "code",
      "source": [
        "sorted(coordinates, key=lambda tup: tup[1])"
      ],
      "metadata": {
        "colab": {
          "base_uri": "https://localhost:8080/"
        },
        "id": "cIgIYBZuXPLA",
        "outputId": "c48a7317-6459-4c2a-d613-bb9f15121c71"
      },
      "execution_count": null,
      "outputs": [
        {
          "output_type": "execute_result",
          "data": {
            "text/plain": [
              "[(1, -1), (2, 1), (-1, 2), (5, 3), (3, 5), (7, 7)]"
            ]
          },
          "metadata": {},
          "execution_count": 21
        }
      ]
    },
    {
      "cell_type": "code",
      "source": [
        "student = [{'name': 'A', 'marks': 50},\n",
        "           {'name': 'B', 'marks': 45},\n",
        "           {'name': 'C', 'marks': 56},\n",
        "           {'name': 'D', 'marks': 25}]\n",
        "sorted(student, key=lambda yogesh: yogesh['marks'], reverse=True)"
      ],
      "metadata": {
        "colab": {
          "base_uri": "https://localhost:8080/"
        },
        "id": "bD3VLadkXofM",
        "outputId": "4d02edce-1369-4402-e9ff-1084a452c4bb"
      },
      "execution_count": null,
      "outputs": [
        {
          "output_type": "execute_result",
          "data": {
            "text/plain": [
              "[{'name': 'C', 'marks': 56},\n",
              " {'name': 'A', 'marks': 50},\n",
              " {'name': 'B', 'marks': 45},\n",
              " {'name': 'D', 'marks': 25}]"
            ]
          },
          "metadata": {},
          "execution_count": 23
        }
      ]
    },
    {
      "cell_type": "code",
      "source": [
        "def gen_exp(n):\n",
        "  def exp(x):\n",
        "    return x**n\n",
        "  return exp\n",
        "exp_5 = gen_exp(5)\n",
        "exp_5(2)"
      ],
      "metadata": {
        "id": "tpKj9O5ocjMa"
      },
      "execution_count": null,
      "outputs": []
    },
    {
      "cell_type": "code",
      "source": [
        "def func2(c, d):\n",
        "    return c, d\n",
        "\n",
        "def func1(a, b):\n",
        "    c = a**1\n",
        "    d = b**2\n",
        "    return lambda: func2(c,d)\n",
        "\n",
        "result = func1(1, 2)\n",
        "\n",
        "print(result())"
      ],
      "metadata": {
        "id": "qaugStube9pv"
      },
      "execution_count": null,
      "outputs": []
    },
    {
      "cell_type": "code",
      "source": [
        "def f(text):\n",
        "  return text.upper()\n",
        "\n",
        "def g(text):\n",
        "  return text.lower()\n",
        "\n",
        "def hello(func):\n",
        "  text = func('Hello')\n",
        "  print(text)\n",
        "\n",
        "hello(f)"
      ],
      "metadata": {
        "colab": {
          "base_uri": "https://localhost:8080/"
        },
        "id": "8WKcPc2NgARZ",
        "outputId": "74333d3c-fdbe-4df0-9546-af7daca8dbff"
      },
      "execution_count": null,
      "outputs": [
        {
          "output_type": "stream",
          "name": "stdout",
          "text": [
            "HELLO\n"
          ]
        }
      ]
    },
    {
      "cell_type": "code",
      "source": [
        "def foo():\n",
        "  print('-'*50)\n",
        "  print('Hello everyone ! How are you doing')\n",
        "  print('-'*50)\n",
        "\n",
        "\n",
        "def bar():\n",
        "  print('-'*50)\n",
        "  print('Random first element')\n",
        "  print('-'*50)\n",
        "\n",
        "\n",
        "foo()\n",
        "bar()\n",
        "\n"
      ],
      "metadata": {
        "colab": {
          "base_uri": "https://localhost:8080/"
        },
        "id": "01zRwIuOiar3",
        "outputId": "924a7606-46e0-4d56-ed82-61113228b491"
      },
      "execution_count": null,
      "outputs": [
        {
          "output_type": "stream",
          "name": "stdout",
          "text": [
            "--------------------------------------------------\n",
            "Hello everyone ! How are you doing\n",
            "--------------------------------------------------\n",
            "--------------------------------------------------\n",
            "Random first element\n",
            "--------------------------------------------------\n"
          ]
        }
      ]
    },
    {
      "cell_type": "code",
      "source": [
        "def foo():\n",
        "  print('Hello everyone ! How are you doing')\n",
        "\n",
        "def bar():\n",
        "  print(\" Random element\")\n",
        "\n",
        "def pretty(func):\n",
        "  def inner():\n",
        "    print('*'*50)\n",
        "    func()\n",
        "    print('*'*50)\n",
        "  return inner\n",
        "\n",
        "new_foo = pretty(bar)\n",
        "new_foo()"
      ],
      "metadata": {
        "colab": {
          "base_uri": "https://localhost:8080/"
        },
        "id": "mbpojOAnjF-L",
        "outputId": "800aed3d-2051-43ed-9688-21f55facaee4"
      },
      "execution_count": null,
      "outputs": [
        {
          "output_type": "stream",
          "name": "stdout",
          "text": [
            "**************************************************\n",
            " Random element\n",
            "**************************************************\n"
          ]
        }
      ]
    },
    {
      "cell_type": "code",
      "source": [
        "@pretty\n",
        "def magical_foo():\n",
        "  print('Hello Yogesh')\n",
        "\n",
        "magical_foo()"
      ],
      "metadata": {
        "colab": {
          "base_uri": "https://localhost:8080/"
        },
        "id": "oxrlGdzQkqtn",
        "outputId": "0e815197-24e0-4fe5-feab-f374199a3c16"
      },
      "execution_count": null,
      "outputs": [
        {
          "output_type": "stream",
          "name": "stdout",
          "text": [
            "**************************************************\n",
            "Hello Yogesh\n",
            "**************************************************\n"
          ]
        }
      ]
    }
  ]
}